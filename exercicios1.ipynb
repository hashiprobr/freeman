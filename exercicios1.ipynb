{
 "cells": [
  {
   "cell_type": "markdown",
   "metadata": {},
   "source": [
    "# Exercícios da Aula 1\n",
    "\n",
    "A biblioteca da disciplina chama-se *freeman*, em homenagem ao sociólogo americano [Linton Freeman](https://en.wikipedia.org/wiki/Linton_Freeman), um pioneiro na área de Análise de Redes Sociais."
   ]
  },
  {
   "cell_type": "code",
   "execution_count": 1,
   "metadata": {},
   "outputs": [
    {
     "data": {
      "text/html": [
       "        <script type=\"text/javascript\">\n",
       "        window.PlotlyConfig = {MathJaxConfig: 'local'};\n",
       "        if (window.MathJax) {MathJax.Hub.Config({SVG: {font: \"STIX-Web\"}});}\n",
       "        if (typeof require !== 'undefined') {\n",
       "        require.undef(\"plotly\");\n",
       "        requirejs.config({\n",
       "            paths: {\n",
       "                'plotly': ['https://cdn.plot.ly/plotly-latest.min']\n",
       "            }\n",
       "        });\n",
       "        require(['plotly'], function(Plotly) {\n",
       "            window._Plotly = Plotly;\n",
       "        });\n",
       "        }\n",
       "        </script>\n",
       "        "
      ]
     },
     "metadata": {},
     "output_type": "display_data"
    }
   ],
   "source": [
    "import freeman as fm"
   ]
  },
  {
   "cell_type": "markdown",
   "metadata": {},
   "source": [
    "A estrutura usada para armazenar um grafo é baseada na biblioteca *NetworkX* e totalmente compatível com ela."
   ]
  },
  {
   "cell_type": "code",
   "execution_count": 2,
   "metadata": {},
   "outputs": [],
   "source": [
    "import networkx as nx"
   ]
  },
  {
   "cell_type": "markdown",
   "metadata": {},
   "source": [
    "Para carregar um grafo, use a função `load`."
   ]
  },
  {
   "cell_type": "code",
   "execution_count": 3,
   "metadata": {},
   "outputs": [],
   "source": [
    "g = fm.load('dados/exercicios1/largura.gml')"
   ]
  },
  {
   "cell_type": "markdown",
   "metadata": {},
   "source": [
    "Para desenhar um grafo, use o método `draw`."
   ]
  },
  {
   "cell_type": "code",
   "execution_count": 4,
   "metadata": {},
   "outputs": [
    {
     "data": {
      "application/vnd.plotly.v1+json": {
       "config": {
        "displayModeBar": false,
        "linkText": "Export to plot.ly",
        "plotlyServerURL": "https://plot.ly",
        "showLink": false
       },
       "data": [
        {
         "hoverinfo": "none",
         "line": {
          "color": "rgb(0, 0, 0)",
          "dash": "solid",
          "width": 1
         },
         "mode": "lines",
         "type": "scatter",
         "uid": "5eeae450-dfeb-4a25-b764-d298935a3980",
         "x": [
          0,
          0.33,
          null,
          0,
          0,
          null,
          0.33,
          0.33,
          null,
          0.66,
          1,
          null,
          0.66,
          0.33,
          null,
          0.66,
          0.66,
          null,
          1,
          0.66,
          null,
          1,
          1,
          null,
          0.33,
          0.66,
          null,
          0.66,
          1,
          null
         ],
         "y": [
          1,
          1,
          null,
          1,
          0,
          null,
          1,
          0,
          null,
          1,
          1,
          null,
          1,
          0,
          null,
          1,
          0,
          null,
          1,
          0,
          null,
          1,
          0,
          null,
          0,
          0,
          null,
          0,
          0,
          null
         ]
        },
        {
         "hoverinfo": "none",
         "marker": {
          "color": "rgb(255, 255, 255)",
          "line": {
           "color": "rgb(0, 0, 0)",
           "width": 1
          },
          "size": 20,
          "symbol": "circle"
         },
         "mode": "markers+text",
         "text": [
          null,
          null,
          null,
          null,
          null,
          null,
          null,
          null
         ],
         "textfont": {
          "color": "rgb(0, 0, 0)"
         },
         "textposition": "middle center",
         "type": "scatter",
         "uid": "9ecc7bf0-d999-4348-914f-81ae7ed020b1",
         "x": [
          0,
          0.33,
          0.66,
          1,
          0,
          0.33,
          0.66,
          1
         ],
         "y": [
          1,
          1,
          1,
          1,
          0,
          0,
          0,
          0
         ]
        },
        {
         "hoverinfo": "none",
         "mode": "text",
         "text": [
          null,
          null,
          null,
          null,
          null,
          null,
          null,
          null,
          null,
          null
         ],
         "textfont": {
          "color": "rgb(0, 0, 0)"
         },
         "textposition": "middle center",
         "type": "scatter",
         "uid": "3f2503f6-8c22-4402-a86b-31d2101c6710",
         "x": [
          0.165,
          0.029761904761904764,
          0.3597619047619048,
          0.8300000000000001,
          0.5202813935996261,
          0.6897619047619048,
          0.8550676012101641,
          1.0297619047619047,
          0.495,
          0.8300000000000001
         ],
         "y": [
          1.0560224089635855,
          0.5,
          0.5,
          1.0560224089635855,
          0.47043914005126075,
          0.5,
          0.4698009133656377,
          0.5,
          0.05602240896358543,
          0.05602240896358543
         ]
        },
        {
         "hoverinfo": "none",
         "marker": {
          "color": "rgba(255, 255, 255, 0.0)",
          "line": {
           "color": "rgba(255, 255, 255, 0.0)",
           "width": 0
          },
          "size": 0,
          "symbol": "circle"
         },
         "mode": "markers",
         "type": "scatter",
         "uid": "4ff4fb41-1932-4bec-be3a-a7605a401069",
         "x": [
          0.5,
          0,
          1,
          0.5
         ],
         "y": [
          0,
          0.5,
          0.5,
          1
         ]
        }
       ],
       "layout": {
        "height": 225,
        "margin": {
         "b": 0,
         "l": 0,
         "r": 0,
         "t": 0
        },
        "showlegend": false,
        "width": 400,
        "xaxis": {
         "showgrid": false,
         "showticklabels": false,
         "zeroline": false
        },
        "yaxis": {
         "showgrid": false,
         "showticklabels": false,
         "zeroline": false
        }
       }
      },
      "text/html": [
       "<div>\n",
       "        \n",
       "        \n",
       "            <div id=\"b10d8976-437b-4474-93a7-8d717ead6ead\" class=\"plotly-graph-div\" style=\"height:225px; width:400px;\"></div>\n",
       "            <script type=\"text/javascript\">\n",
       "                require([\"plotly\"], function(Plotly) {\n",
       "                    window.PLOTLYENV=window.PLOTLYENV || {};\n",
       "                    window.PLOTLYENV.BASE_URL='https://plot.ly';\n",
       "                    \n",
       "                if (document.getElementById(\"b10d8976-437b-4474-93a7-8d717ead6ead\")) {\n",
       "                    Plotly.newPlot(\n",
       "                        'b10d8976-437b-4474-93a7-8d717ead6ead',\n",
       "                        [{\"hoverinfo\": \"none\", \"line\": {\"color\": \"rgb(0, 0, 0)\", \"dash\": \"solid\", \"width\": 1}, \"mode\": \"lines\", \"type\": \"scatter\", \"uid\": \"5eeae450-dfeb-4a25-b764-d298935a3980\", \"x\": [0.0, 0.33, null, 0.0, 0.0, null, 0.33, 0.33, null, 0.66, 1.0, null, 0.66, 0.33, null, 0.66, 0.66, null, 1.0, 0.66, null, 1.0, 1.0, null, 0.33, 0.66, null, 0.66, 1.0, null], \"y\": [1.0, 1.0, null, 1.0, 0.0, null, 1.0, 0.0, null, 1.0, 1.0, null, 1.0, 0.0, null, 1.0, 0.0, null, 1.0, 0.0, null, 1.0, 0.0, null, 0.0, 0.0, null, 0.0, 0.0, null]}, {\"hoverinfo\": \"none\", \"marker\": {\"color\": \"rgb(255, 255, 255)\", \"line\": {\"color\": \"rgb(0, 0, 0)\", \"width\": 1}, \"size\": 20, \"symbol\": \"circle\"}, \"mode\": \"markers+text\", \"text\": [null, null, null, null, null, null, null, null], \"textfont\": {\"color\": \"rgb(0, 0, 0)\"}, \"textposition\": \"middle center\", \"type\": \"scatter\", \"uid\": \"9ecc7bf0-d999-4348-914f-81ae7ed020b1\", \"x\": [0.0, 0.33, 0.66, 1.0, 0.0, 0.33, 0.66, 1.0], \"y\": [1.0, 1.0, 1.0, 1.0, 0.0, 0.0, 0.0, 0.0]}, {\"hoverinfo\": \"none\", \"mode\": \"text\", \"text\": [null, null, null, null, null, null, null, null, null, null], \"textfont\": {\"color\": \"rgb(0, 0, 0)\"}, \"textposition\": \"middle center\", \"type\": \"scatter\", \"uid\": \"3f2503f6-8c22-4402-a86b-31d2101c6710\", \"x\": [0.165, 0.029761904761904764, 0.3597619047619048, 0.8300000000000001, 0.5202813935996261, 0.6897619047619048, 0.8550676012101641, 1.0297619047619047, 0.495, 0.8300000000000001], \"y\": [1.0560224089635855, 0.5, 0.5, 1.0560224089635855, 0.47043914005126075, 0.5, 0.4698009133656377, 0.5, 0.05602240896358543, 0.05602240896358543]}, {\"hoverinfo\": \"none\", \"marker\": {\"color\": \"rgba(255, 255, 255, 0.0)\", \"line\": {\"color\": \"rgba(255, 255, 255, 0.0)\", \"width\": 0}, \"size\": 0, \"symbol\": \"circle\"}, \"mode\": \"markers\", \"type\": \"scatter\", \"uid\": \"4ff4fb41-1932-4bec-be3a-a7605a401069\", \"x\": [0.5, 0.0, 1.0, 0.5], \"y\": [0.0, 0.5, 0.5, 1.0]}],\n",
       "                        {\"height\": 225, \"margin\": {\"b\": 0, \"l\": 0, \"r\": 0, \"t\": 0}, \"showlegend\": false, \"width\": 400, \"xaxis\": {\"showgrid\": false, \"showticklabels\": false, \"zeroline\": false}, \"yaxis\": {\"showgrid\": false, \"showticklabels\": false, \"zeroline\": false}},\n",
       "                        {\"displayModeBar\": false, \"showLink\": false, \"linkText\": \"Export to plot.ly\", \"plotlyServerURL\": \"https://plot.ly\", \"responsive\": true}\n",
       "                    ).then(function(){\n",
       "                            \n",
       "var gd = document.getElementById('b10d8976-437b-4474-93a7-8d717ead6ead');\n",
       "var x = new MutationObserver(function (mutations, observer) {{\n",
       "        var display = window.getComputedStyle(gd).display;\n",
       "        if (!display || display === 'none') {{\n",
       "            console.log([gd, 'removed!']);\n",
       "            Plotly.purge(gd);\n",
       "            observer.disconnect();\n",
       "        }}\n",
       "}});\n",
       "\n",
       "// Listen for the removal of the full notebook cells\n",
       "var notebookContainer = gd.closest('#notebook-container');\n",
       "if (notebookContainer) {{\n",
       "    x.observe(notebookContainer, {childList: true});\n",
       "}}\n",
       "\n",
       "// Listen for the clearing of the current output cell\n",
       "var outputEl = gd.closest('.output');\n",
       "if (outputEl) {{\n",
       "    x.observe(outputEl, {childList: true});\n",
       "}}\n",
       "\n",
       "                        })\n",
       "                };\n",
       "                });\n",
       "            </script>\n",
       "        </div>"
      ]
     },
     "metadata": {},
     "output_type": "display_data"
    }
   ],
   "source": [
    "g.draw()"
   ]
  },
  {
   "cell_type": "markdown",
   "metadata": {},
   "source": [
    "Para interagir com um grafo, use o método `interact`. Você pode usar o mouse para arrastar os nós."
   ]
  },
  {
   "cell_type": "code",
   "execution_count": 5,
   "metadata": {},
   "outputs": [
    {
     "data": {
      "text/html": [
       "\n",
       "        <iframe\n",
       "            width=\"409\"\n",
       "            height=\"234\"\n",
       "            src=\"__fmcache__/139687050000576.html\"\n",
       "            frameborder=\"0\"\n",
       "            allowfullscreen\n",
       "        ></iframe>\n",
       "        "
      ],
      "text/plain": [
       "<IPython.lib.display.IFrame at 0x7f0b6c87ad10>"
      ]
     },
     "metadata": {},
     "output_type": "display_data"
    }
   ],
   "source": [
    "g.interact()"
   ]
  },
  {
   "cell_type": "markdown",
   "metadata": {},
   "source": [
    "Como mencionado na página 4 do handout, vamos tentar carregar um grafo com repetição de nós. Vai dar erro."
   ]
  },
  {
   "cell_type": "code",
   "execution_count": null,
   "metadata": {},
   "outputs": [],
   "source": [
    "g_com_nos_repetidos = fm.load('dados/exercicios1/nos-repetidos.gml')"
   ]
  },
  {
   "cell_type": "markdown",
   "metadata": {},
   "source": [
    "Também como mencionado na página 4 do handout, vamos tentar carregar um grafo com repetição de arestas, embora a ordem de `source` e `target` seja diferente. Novamente, vai dar erro."
   ]
  },
  {
   "cell_type": "code",
   "execution_count": null,
   "metadata": {},
   "outputs": [],
   "source": [
    "g_com_arestas_repetidas = fm.load('dados/exercicios1/arestas-repetidas.gml')"
   ]
  },
  {
   "cell_type": "markdown",
   "metadata": {},
   "source": [
    "Vamos retomar o grafo original. Para percorrer todos os nós, podemos fazer um `for` sobre `nodes`."
   ]
  },
  {
   "cell_type": "code",
   "execution_count": null,
   "metadata": {},
   "outputs": [],
   "source": [
    "for n in g.nodes:\n",
    "    print(n)"
   ]
  },
  {
   "cell_type": "markdown",
   "metadata": {},
   "source": [
    "**Importante.** A variável `n` não é um índice ou nome, essa variável representa o próprio nó. Por exemplo, não dizemos que o primeiro nó da impressão acima “tem número 0”, nem que esse nó “se chama 0”. Dizemos que ele **É** o inteiro 0. A sequência de nós pode ter lacunas, pode estar fora de ordem e pode até mesmo incluir strings.\n",
    "\n",
    "Note que a observação acima é totalmente análoga à do handout.\n",
    "\n",
    "Para percorrer todas as arestas do grafo, podemos fazer um `for` sobre `edges`."
   ]
  },
  {
   "cell_type": "code",
   "execution_count": null,
   "metadata": {},
   "outputs": [],
   "source": [
    "for n, m in g.edges:\n",
    "    print(n, m)"
   ]
  },
  {
   "cell_type": "markdown",
   "metadata": {},
   "source": [
    "O dicionário `graph` pode ser usado para armazenar atributos do grafo."
   ]
  },
  {
   "cell_type": "code",
   "execution_count": null,
   "metadata": {},
   "outputs": [],
   "source": [
    "g.graph['title'] = 'Grafinho'"
   ]
  },
  {
   "cell_type": "markdown",
   "metadata": {},
   "source": [
    "Ele armazena inclusive atributos especificados no GML. Abra o arquivo e localize os dois atributos abaixo."
   ]
  },
  {
   "cell_type": "code",
   "execution_count": null,
   "metadata": {},
   "outputs": [],
   "source": [
    "print(g.graph['width'])\n",
    "print(g.graph['height'])"
   ]
  },
  {
   "cell_type": "markdown",
   "metadata": {},
   "source": [
    "Os dicionários `nodes` e `edges` podem ser usados para armazenar atributos de nós e arestas, respectivamente."
   ]
  },
  {
   "cell_type": "code",
   "execution_count": null,
   "metadata": {},
   "outputs": [],
   "source": [
    "g.nodes[0]['name'] = 'Nozinho'\n",
    "g.edges[0, 1]['name'] = 'Arestazinha'"
   ]
  },
  {
   "cell_type": "markdown",
   "metadata": {},
   "source": [
    "**Importante.** No código acima, `g.nodes[0]` não é um nó e `g.edges[0, 1]` não é uma aresta. Ambos são dicionários de atributos. O inteiro `0` não é um índice, esse inteiro é o próprio nó.\n",
    "\n",
    "Como a ordem das pontas de uma aresta não importa para grafos normais, o dicionários `g.nodes[0, 1]` é o dicionário `g.nodes[1, 0]`."
   ]
  },
  {
   "cell_type": "code",
   "execution_count": null,
   "metadata": {},
   "outputs": [],
   "source": [
    "print(g.edges[1, 0]['name'])"
   ]
  },
  {
   "cell_type": "markdown",
   "metadata": {},
   "source": [
    "O tamanho é devolvido pelo método `number_of_nodes`."
   ]
  },
  {
   "cell_type": "code",
   "execution_count": null,
   "metadata": {},
   "outputs": [],
   "source": [
    "print(g.number_of_nodes())"
   ]
  },
  {
   "cell_type": "markdown",
   "metadata": {},
   "source": [
    "O número de arestas é devolvido pelo método `number_of_edges` e a densidade é devolvida pela função `density` da NetworkX."
   ]
  },
  {
   "cell_type": "code",
   "execution_count": null,
   "metadata": {},
   "outputs": [],
   "source": [
    "print(g.number_of_nodes())\n",
    "print(nx.density(g))"
   ]
  },
  {
   "cell_type": "markdown",
   "metadata": {},
   "source": [
    "A função `load` e o método `draw` também podem ser usados para carregar e desenhar grafos dirigidos."
   ]
  },
  {
   "cell_type": "code",
   "execution_count": null,
   "metadata": {},
   "outputs": [],
   "source": [
    "dg = fm.load('dados/exercicios1/bellman.gml')\n",
    "dg.draw()"
   ]
  },
  {
   "cell_type": "markdown",
   "metadata": {},
   "source": [
    "O método `interact` também pode ser usado para interagir com grafos dirigidos, mas com uma pequena diferença: quando uma aresta é o oposto da outra, elas não são desenhadas lado a lado, mas como uma única aresta com duas pontas. Por um lado, isso deixa grafos densos menos poluídos e mais fáceis de interagir. Por outro lado, isso deixa a representação visual menos densa que a realidade."
   ]
  },
  {
   "cell_type": "code",
   "execution_count": null,
   "metadata": {},
   "outputs": [],
   "source": [
    "dg.interact()"
   ]
  },
  {
   "cell_type": "markdown",
   "metadata": {},
   "source": [
    "Vamos agora aos gabaritos da página 8 do handout. Primeiramente, podemos usar as funções `neighbors` e `degree` da NetworkX para descobrir os vizinhos e degrees do primeiro grafo."
   ]
  },
  {
   "cell_type": "code",
   "execution_count": null,
   "metadata": {},
   "outputs": [],
   "source": [
    "for n in g.nodes:\n",
    "    print(n, list(g.neighbors(n)), g.degree(n))"
   ]
  },
  {
   "cell_type": "markdown",
   "metadata": {},
   "source": [
    "Em seguida, podemos usar as funções `successors` e `out_degree` para descobrir os sucessores e outdegrees do segundo grafo."
   ]
  },
  {
   "cell_type": "code",
   "execution_count": null,
   "metadata": {},
   "outputs": [],
   "source": [
    "for n in dg.nodes:\n",
    "    print(n, list(dg.successors(n)), dg.out_degree(n))"
   ]
  },
  {
   "cell_type": "markdown",
   "metadata": {},
   "source": [
    "Por fim, podemos usar as funções `predecessors` e `in_degree` para descobrir os predecessores e indegrees."
   ]
  },
  {
   "cell_type": "code",
   "execution_count": null,
   "metadata": {},
   "outputs": [],
   "source": [
    "for n in dg.nodes:\n",
    "    print(n, list(dg.predecessors(n)), dg.in_degree(n))"
   ]
  },
  {
   "cell_type": "markdown",
   "metadata": {},
   "source": [
    "Para fechar os conceitos básicos, vamos apresentar quatro subestruturas importantes que estão relacionadas aos exercícios para entregar.\n",
    "\n",
    "Um **passeio** é uma sequência de nós tal que, se um nó `n` vem logo antes de um nó `m` nessa sequência, então existe uma aresta entre `n` e `m` (de `n` até `m` se o grafo for dirigido) nessa sequência. Ou seja, como o próprio nome diz, define uma maneira de \"passear\" pelos nós andando pelas arestas (e respeitando a direção delas se o grafo for dirigido).\n",
    "\n",
    "Uma **trilha** é um caso particular de passeio: ao longo de uma trilha, você não passa duas vezes pela mesma aresta, embora possa passar duas vezes pelo mesmo nó.\n",
    "\n",
    "Um **caminho** é um caso particular de trilha e portanto também de passeio: ao longo de um caminho, você não passa duas vezes pelo mesmo nó.\n",
    "\n",
    "Finalmente, uma **geodésica** de `n` a `m` é um caminho com o *menor comprimento possível* dentre todos os que começam em `n` e terminam em `m`.\n",
    "\n",
    "\n",
    "## Preliminares\n",
    "\n",
    "Alguns atributos de grafo, nó e aresta são tratados de maneira especial pela biblioteca, pois definem *propriedades visuais*:\n",
    "\n",
    "* `g.graph['width']`;\n",
    "* `g.graph['height']`;\n",
    "* `g.graph['bottom']`;\n",
    "* `g.graph['left']`;\n",
    "* `g.graph['right']`;\n",
    "* `g.graph['top']`;\n",
    "* `g.nodes[n]['size']`;\n",
    "* `g.nodes[n]['color']`;\n",
    "* `g.edges[n, m]['width']`;\n",
    "* `g.edges[n, m]['color']`.\n",
    "\n",
    "Antes de começar os exercícios, brinque um pouco com esses atributos e use `draw`/`interact` para descobrir o efeito deles.\n",
    "\n",
    "A propósito, cores são triplas de inteiros entre `0` e `255`. Por exemplo, vermelho é `(255, 0, 0)`."
   ]
  },
  {
   "cell_type": "code",
   "execution_count": null,
   "metadata": {},
   "outputs": [],
   "source": [
    "# seu código aqui"
   ]
  },
  {
   "cell_type": "markdown",
   "metadata": {},
   "source": [
    "A biblioteca também suporta animações, mas este código eu vou deixar vocês entenderem sozinhos!"
   ]
  },
  {
   "cell_type": "code",
   "execution_count": null,
   "metadata": {},
   "outputs": [],
   "source": [
    "a = fm.Animation()\n",
    "\n",
    "g.set_all_nodes('color', (255, 255, 255))\n",
    "a.rec(g)\n",
    "\n",
    "for n in g.nodes:\n",
    "    g.nodes[n]['color'] = (0, 255, 0)\n",
    "    a.rec(g)\n",
    "\n",
    "for n, m in g.edges:\n",
    "    g.edges[n, m]['color'] = (0, 0, 255)\n",
    "    a.rec(g)\n",
    "\n",
    "a.play()"
   ]
  },
  {
   "cell_type": "markdown",
   "metadata": {},
   "source": [
    "## Exercício 1\n",
    "\n",
    "Use uma animação, envolvendo tanto nós quanto arestas, para mostrar em `g` um *passeio que não seja trilha*."
   ]
  },
  {
   "cell_type": "code",
   "execution_count": null,
   "metadata": {},
   "outputs": [],
   "source": [
    "# seu código aqui"
   ]
  },
  {
   "cell_type": "markdown",
   "metadata": {},
   "source": [
    "## Exercício 2\n",
    "\n",
    "Use uma animação, envolvendo tanto nós quanto arestas, para mostrar em `g` uma *trilha que não seja caminho*."
   ]
  },
  {
   "cell_type": "code",
   "execution_count": null,
   "metadata": {},
   "outputs": [],
   "source": [
    "# seu código aqui"
   ]
  },
  {
   "cell_type": "markdown",
   "metadata": {},
   "source": [
    "## Exercício 3\n",
    "\n",
    "Use uma animação, envolvendo tanto nós quanto arestas, para destacar em `dg` um *passeio que não seja trilha*."
   ]
  },
  {
   "cell_type": "code",
   "execution_count": null,
   "metadata": {},
   "outputs": [],
   "source": [
    "# seu código aqui"
   ]
  },
  {
   "cell_type": "markdown",
   "metadata": {},
   "source": [
    "## Exercício 4\n",
    "\n",
    "Use uma animação, envolvendo tanto nós quanto arestas, para destacar em `dg` uma *trilha que não seja caminho*."
   ]
  },
  {
   "cell_type": "code",
   "execution_count": null,
   "metadata": {},
   "outputs": [],
   "source": [
    "# seu código aqui"
   ]
  },
  {
   "cell_type": "markdown",
   "metadata": {},
   "source": [
    "## Exercício 5\n",
    "\n",
    "Considere as seguintes variações em relação ao modo de \"algo\" andar por uma rede:\n",
    "\n",
    "* nó transmite para um único vizinho (single) **VS.** nó transmite para vários vizinhos ao mesmo tempo (broad);\n",
    "\n",
    "* nó mantém uma cópia consigo mesmo (copy) **VS.** nó perde a posse como consequência de transmitir (transfer);\n",
    "\n",
    "* o \"algo\" anda por passeios **VS.** anda por trilhas **VS.** anda por caminhos **VS.** anda por geodésicas.\n",
    "\n",
    "Para cada um dos casos abaixo, qual você acredita ser o comportamento?\n",
    "\n",
    "*(single ou broad? copy ou transfer? passeios ou trilhas ou caminhos ou geodésicas?)*\n",
    "\n",
    "Não existe uma única resposta certa. Na verdade, queremos coletar estatísticas da turma."
   ]
  },
  {
   "cell_type": "markdown",
   "metadata": {},
   "source": [
    "**Dinheiro (uma nota específica):** *seu texto aqui*\n",
    "\n",
    "**Pacote:** *seu texto aqui*\n",
    "\n",
    "**Vírus biológico:** *seu texto aqui*\n",
    "\n",
    "**Vírus de computador:** *seu texto aqui*\n",
    "\n",
    "**Fofoca**: *seu texto aqui*\n",
    "\n",
    "**Spam**: *seu texto aqui*\n",
    "\n",
    "**Meme (Facebook)**: *seu texto aqui*\n",
    "\n",
    "**Meme (WhatsApp)**: *seu texto aqui*\n",
    "\n",
    "**Fake news**: *seu texto aqui*\n",
    "\n",
    "**Conhecimento**: *seu texto aqui*"
   ]
  },
  {
   "cell_type": "markdown",
   "metadata": {},
   "source": [
    "## Help Desk\n",
    "\n",
    "Se o notebook não está exibindo grafos, siga os passos abaixo.\n",
    "\n",
    "1. Confirme que nenhuma célula está lançando exceção. Se alguma estiver, resolva antes de continuar.\n",
    "\n",
    "2. Confirme que sua máquina está conectada à Internet. Se não estiver, reconecte antes de continuar.\n",
    "\n",
    "3. Na barra de menu do notebook, selecione *Cell → All Output → Clear* para limpar todas as saídas.\n",
    "\n",
    "4. Salve o notebook pela barra de ferramentas ou pelo atalho `Ctrl+s`.\n",
    "\n",
    "5. Feche o notebook, ou seja, feche a aba do navegador no qual ele está aberto.\n",
    "\n",
    "6. No gerenciador do Jupyter, selecione o notebook e clique no botão *Shutdown* para fechá-lo de verdade.\n",
    "\n",
    "7. Abra o notebook novamente."
   ]
  }
 ],
 "metadata": {
  "kernelspec": {
   "display_name": "Python 3",
   "language": "python",
   "name": "python3"
  },
  "language_info": {
   "codemirror_mode": {
    "name": "ipython",
    "version": 3
   },
   "file_extension": ".py",
   "mimetype": "text/x-python",
   "name": "python",
   "nbconvert_exporter": "python",
   "pygments_lexer": "ipython3",
   "version": "3.7.4"
  }
 },
 "nbformat": 4,
 "nbformat_minor": 2
}
