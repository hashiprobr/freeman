{
 "cells": [
  {
   "cell_type": "markdown",
   "metadata": {},
   "source": [
    "# Notebook da Aula 14"
   ]
  },
  {
   "cell_type": "code",
   "execution_count": null,
   "metadata": {},
   "outputs": [],
   "source": [
    "import networkx as nx\n",
    "import freeman as fm"
   ]
  },
  {
   "cell_type": "markdown",
   "metadata": {},
   "source": [
    "## Parâmetros para variar"
   ]
  },
  {
   "cell_type": "code",
   "execution_count": null,
   "metadata": {},
   "outputs": [],
   "source": [
    "POPULATION = 10\n",
    "FRIENDSHIP = 0.5\n",
    "\n",
    "PRESSURE_1 = 1 # quando X amigo de Y, X amigo de Z, Y inimigo de Z, essa é a pressão sobre YZ\n",
    "PRESSURE_2 = 1 # quando X amigo de Y, X inimigo de Z, Y amigo de Z, essa é a pressão sobre YZ\n",
    "PRESSURE_3 = 1 # quando todos são inimigos mútuos, essa é a pressão sobre todas as três arestas"
   ]
  },
  {
   "cell_type": "markdown",
   "metadata": {},
   "source": [
    "## Algumas funções de conveniência"
   ]
  },
  {
   "cell_type": "code",
   "execution_count": null,
   "metadata": {},
   "outputs": [],
   "source": [
    "from random import random\n",
    "\n",
    "\n",
    "def colorize_edges(g):\n",
    "    for n, m in g.edges:\n",
    "        if g.edges[n, m]['friendship']:\n",
    "            g.edges[n, m]['color'] = (0, 0, 255)\n",
    "        else:\n",
    "            g.edges[n, m]['color'] = (255, 0, 0)\n",
    "\n",
    "\n",
    "def generate_graph():\n",
    "    g = fm.Graph(nx.complete_graph(POPULATION))\n",
    "\n",
    "    for n, m in g.edges:\n",
    "        if random() < FRIENDSHIP:\n",
    "            g.edges[n, m]['friendship'] = True\n",
    "        else:\n",
    "            g.edges[n, m]['friendship'] = False\n",
    "\n",
    "    g.set_all_nodes('size', 10)\n",
    "    colorize_edges(g)\n",
    "    return g\n",
    "\n",
    "\n",
    "g = generate_graph()\n",
    "g.draw()"
   ]
  },
  {
   "cell_type": "markdown",
   "metadata": {},
   "source": [
    "## Simulação"
   ]
  },
  {
   "cell_type": "code",
   "execution_count": null,
   "metadata": {},
   "outputs": [],
   "source": [
    "from random import choice\n",
    "\n",
    "\n",
    "with fm.Animation() as a:\n",
    "    g = generate_graph()\n",
    "\n",
    "    while True:\n",
    "        for n, m in g.edges:\n",
    "            g.edges[n, m]['pressure'] = 0\n",
    "\n",
    "        for n, m, l in g.triads():\n",
    "            friendships = 0\n",
    "            if g.edges[n, m]['friendship']:\n",
    "                friendships += 1\n",
    "            if g.edges[n, l]['friendship']:\n",
    "                friendships += 1\n",
    "            if g.edges[m, l]['friendship']:\n",
    "                friendships += 1\n",
    "\n",
    "            if friendships % 2 == 0:\n",
    "                if friendships == 0:\n",
    "                    g.edges[n, m]['pressure'] += PRESSURE_3\n",
    "                    g.edges[n, l]['pressure'] += PRESSURE_3\n",
    "                    g.edges[m, l]['pressure'] += PRESSURE_3\n",
    "                else:\n",
    "                    if g.edges[n, m]['friendship']:\n",
    "                        g.edges[n, m]['pressure'] += PRESSURE_2\n",
    "                        if g.edges[n, l]['friendship']:\n",
    "                            g.edges[n, l]['pressure'] += PRESSURE_2\n",
    "                            g.edges[m, l]['pressure'] += PRESSURE_1\n",
    "                        else:\n",
    "                            g.edges[n, l]['pressure'] += PRESSURE_2\n",
    "                            g.edges[m, l]['pressure'] += PRESSURE_2\n",
    "                    else:\n",
    "                        g.edges[n, m]['pressure'] += PRESSURE_1\n",
    "                        g.edges[n, l]['pressure'] += PRESSURE_2\n",
    "                        g.edges[m, l]['pressure'] += PRESSURE_2\n",
    "\n",
    "        pressured = [(n, m) for n, m in g.edges if g.edges[n, m]['pressure'] > 0]\n",
    "\n",
    "        if pressured:\n",
    "            n, m = max(pressured, key=lambda e: g.edges[e[0], e[1]]['pressure'])\n",
    "            g.edges[n, m]['friendship'] = not g.edges[n, m]['friendship']\n",
    "            colorize_edges(g)\n",
    "\n",
    "            g.set_each_edge('weight', lambda n, m: int(g.edges[n, m]['friendship']))\n",
    "            g.move('step', iterations=10)\n",
    "            a.rec(g)\n",
    "        else:\n",
    "            break"
   ]
  }
 ],
 "metadata": {
  "kernelspec": {
   "display_name": "Python 3",
   "language": "python",
   "name": "python3"
  },
  "language_info": {
   "codemirror_mode": {
    "name": "ipython",
    "version": 3
   },
   "file_extension": ".py",
   "mimetype": "text/x-python",
   "name": "python",
   "nbconvert_exporter": "python",
   "pygments_lexer": "ipython3",
   "version": "3.7.3"
  }
 },
 "nbformat": 4,
 "nbformat_minor": 2
}
