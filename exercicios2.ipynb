{
 "cells": [
  {
   "cell_type": "markdown",
   "metadata": {},
   "source": [
    "# Visualização"
   ]
  },
  {
   "cell_type": "code",
   "execution_count": null,
   "metadata": {},
   "outputs": [],
   "source": [
    "import os\n",
    "import networkx as nx\n",
    "import freeman as fm"
   ]
  },
  {
   "cell_type": "markdown",
   "metadata": {},
   "source": [
    "Cada um dos grafos abaixo representa \"quem validou quem\" em uma aula de *Desafios de Programação* do semestre passado. Há um grafo por aula e também um grafo que consolida todas as interações do semestre. As arestas possuem pesos correspondentes à quantidade de vezes que a ajuda foi dada."
   ]
  },
  {
   "cell_type": "code",
   "execution_count": null,
   "metadata": {},
   "outputs": [],
   "source": [
    "for filename in os.listdir('dados/exercicios2'):\n",
    "    print(filename)"
   ]
  },
  {
   "cell_type": "markdown",
   "metadata": {},
   "source": [
    "Vamos fazer um truquezinho para evitar que os nomes poluam o desenho. Setando o atributo `labpos` para `hover`, o nome só aparece quando o mouse passa por cima."
   ]
  },
  {
   "cell_type": "code",
   "execution_count": null,
   "metadata": {},
   "outputs": [],
   "source": [
    "g = fm.load('dados/exercicios2/semestre.gml')\n",
    "g.set_all_nodes('labpos', 'hover')\n",
    "g.draw()"
   ]
  },
  {
   "cell_type": "markdown",
   "metadata": {},
   "source": [
    "Os exercícios abaixo devem ser feitos em dupla ou trio. Não precisam ser as do projeto.\n",
    "\n",
    "## Membros"
   ]
  },
  {
   "cell_type": "markdown",
   "metadata": {},
   "source": [
    "*(seu texto aqui)*"
   ]
  },
  {
   "cell_type": "markdown",
   "metadata": {},
   "source": [
    "## Exercício 1\n",
    "\n",
    "Em relação ao semestre, descubra a colocação de seu indegree e outdegree em relação ao restante da turma."
   ]
  },
  {
   "cell_type": "code",
   "execution_count": null,
   "metadata": {},
   "outputs": [],
   "source": [
    "# seu código aqui"
   ]
  },
  {
   "cell_type": "markdown",
   "metadata": {},
   "source": [
    "## Exercício 2\n",
    "\n",
    "Em relação ao semestre, descubra a colocação do seu betweenness em relação ao restante da turma."
   ]
  },
  {
   "cell_type": "code",
   "execution_count": null,
   "metadata": {},
   "outputs": [],
   "source": [
    "# seu código aqui"
   ]
  },
  {
   "cell_type": "markdown",
   "metadata": {},
   "source": [
    "## Exercício 3\n",
    "\n",
    "Em relação ao semestre, descubra a colocação do seu closeness em relação ao restante da turma."
   ]
  },
  {
   "cell_type": "code",
   "execution_count": null,
   "metadata": {},
   "outputs": [],
   "source": [
    "# seu código aqui"
   ]
  },
  {
   "cell_type": "markdown",
   "metadata": {},
   "source": [
    "## Exercício 4\n",
    "\n",
    "Em relação ao semestre, se você quisesse eficientemente difundir um conhecimento novo na turma, quem você escolheria como sementes e porque? Não existe resposta certa, queremos ler a sua argumentação."
   ]
  },
  {
   "cell_type": "markdown",
   "metadata": {},
   "source": [
    "*(seu texto aqui)*"
   ]
  },
  {
   "cell_type": "markdown",
   "metadata": {},
   "source": [
    "## Exercício 5\n",
    "\n",
    "A coleta de dados foi realizada a cada aula. Isso nos permite realizar uma análise **longitudinal** da centralidade dos alunos. A partir desses dados, informe: há tendências claras de mudança de centralidade ao longo do semestre? Novamente, não existe resposta certa. Queremos ver quais são os códigos que vocês usam e quais são as análises e conclusões que vocês atingem."
   ]
  },
  {
   "cell_type": "code",
   "execution_count": null,
   "metadata": {},
   "outputs": [],
   "source": [
    "# seu código aqui"
   ]
  },
  {
   "cell_type": "markdown",
   "metadata": {},
   "source": [
    "*(seu texto aqui)*"
   ]
  }
 ],
 "metadata": {
  "kernelspec": {
   "display_name": "Python 3",
   "language": "python",
   "name": "python3"
  },
  "language_info": {
   "codemirror_mode": {
    "name": "ipython",
    "version": 3
   },
   "file_extension": ".py",
   "mimetype": "text/x-python",
   "name": "python",
   "nbconvert_exporter": "python",
   "pygments_lexer": "ipython3",
   "version": "3.7.3"
  }
 },
 "nbformat": 4,
 "nbformat_minor": 2
}
