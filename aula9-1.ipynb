{
 "cells": [
  {
   "cell_type": "markdown",
   "metadata": {},
   "source": [
    "# Aula 9, Parte A\n",
    "\n",
    "Apenas um dos membros da dupla/trio precisa entregar. A dupla/trio não precisa ser a mesma do projeto."
   ]
  },
  {
   "cell_type": "code",
   "execution_count": null,
   "metadata": {},
   "outputs": [],
   "source": [
    "import networkx as nx\n",
    "import freeman as fm"
   ]
  },
  {
   "cell_type": "markdown",
   "metadata": {},
   "source": [
    "Vamos continuar a estudar *métricas globais*, ou seja, métricas que caracterizam a rede como um todo e não um único nó ou uma única aresta. Desta vez, em vez de pensar em estatísticas e/ou distribuições de métricas locais, vamos pensar em termos do *quão fácil é realizar uma determinada tarefa na rede*.\n",
    "\n",
    "Por exemplo: **de quantos passos um nó escolhido aleatoriamente precisa para chegar em outro nó escolhido aleatoriamente**?\n",
    "\n",
    "Para verificar se essa pergunta permite diferenciar redes, vamos considerar redes de dois tipos, mas com o mesmo número de nós e o mesmo degree médio, e checar se a resposta muda dependendo do tipo."
   ]
  },
  {
   "cell_type": "code",
   "execution_count": null,
   "metadata": {},
   "outputs": [],
   "source": [
    "NUM_NODES = 20\n",
    "AVG_DEGREE = 6"
   ]
  },
  {
   "cell_type": "markdown",
   "metadata": {},
   "source": [
    "O primeiro tipo é o *anel regular* que vimos na aula anterior. Nesse grafo, é fácil garantir o degree médio porque todos os nós possuem o mesmo degree."
   ]
  },
  {
   "cell_type": "code",
   "execution_count": null,
   "metadata": {},
   "outputs": [],
   "source": [
    "g1 = fm.Graph(nx.empty_graph(NUM_NODES))\n",
    "\n",
    "nodes = list(g1.nodes)\n",
    "\n",
    "for i, n in enumerate(nodes):\n",
    "    for shift in range(AVG_DEGREE // 2):\n",
    "        g1.add_edge(n, nodes[(i + shift + 1) % len(nodes)])\n",
    "\n",
    "g1.graph['width'] = 450\n",
    "g1.set_all_nodes('size', 5)\n",
    "g1.move('circular')\n",
    "g1.draw()"
   ]
  },
  {
   "cell_type": "markdown",
   "metadata": {},
   "source": [
    "O segundo tipo é o *grafo aleatório* que também vimos na aula anterior. O código abaixo gera um grafo Erdos-Renyi em que a esperança do degree é igual ao degree do anel acima."
   ]
  },
  {
   "cell_type": "code",
   "execution_count": null,
   "metadata": {},
   "outputs": [],
   "source": [
    "g2 = fm.Graph(nx.erdos_renyi_graph(NUM_NODES, AVG_DEGREE / (NUM_NODES - 1)))\n",
    "\n",
    "g2.graph['width'] = 450\n",
    "g2.set_all_nodes('size', 5)\n",
    "g2.move('random')\n",
    "g2.draw()"
   ]
  },
  {
   "cell_type": "markdown",
   "metadata": {},
   "source": [
    "## Pergunta\n",
    "\n",
    "Existe alguma diferença entre as redes, em relação a quantos passos um nó escolhido aleatoriamente precisa para chegar em outro nó escolhido aleatoriamente? Responda imaginando como seria a cara de um gráfico em que o eixo horizontal é o número de nós e o eixo vertical é essa quantidade de passos. Suponha que o degree médio é sempre o mesmo."
   ]
  },
  {
   "cell_type": "markdown",
   "metadata": {},
   "source": [
    "*A pergunta é uma versão \"alto nível\" do conceito de \"average path length\", apresentado no próximo notebook.*"
   ]
  },
  {
   "cell_type": "markdown",
   "metadata": {},
   "source": [
    "**Outro exemplo:** de quantos passos você precisa para chegar de um nó a outro, **NÃO** sabendo o melhor caminho? O problema nesse caso são as \"panelinhas\". Se você começa em um grupo de nós com todas ou muitas arestas entre si, o problema é que muitos dos primeiros passos podem servir apenas para permanecer no mesmo grupo. Se houver panelinhas fortes, você tende a precisar de muitos passos para sair de uma.\n",
    "\n",
    "## Pergunta\n",
    "\n",
    "Existe alguma diferença entre as redes, em relação a quantos passos você precisa em média para chegar de um nó a outro sem saber o menor caminho? Responda imaginando como seria a cara de um gráfico em que o eixo horizontal é o número de nós e o eixo vertical é essa quantidade de passos. Suponha que o degree médio é sempre o mesmo."
   ]
  },
  {
   "cell_type": "markdown",
   "metadata": {},
   "source": [
    "*A pergunta é uma versão \"alto nível\" do conceito de \"clustering coefficient\", apresentado no próximo notebook.*"
   ]
  }
 ],
 "metadata": {
  "kernelspec": {
   "display_name": "Python 3",
   "language": "python",
   "name": "python3"
  },
  "language_info": {
   "codemirror_mode": {
    "name": "ipython",
    "version": 3
   },
   "file_extension": ".py",
   "mimetype": "text/x-python",
   "name": "python",
   "nbconvert_exporter": "python",
   "pygments_lexer": "ipython3",
   "version": "3.7.4"
  }
 },
 "nbformat": 4,
 "nbformat_minor": 2
}
