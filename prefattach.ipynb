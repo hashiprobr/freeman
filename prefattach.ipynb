{
 "cells": [
  {
   "cell_type": "markdown",
   "metadata": {},
   "source": [
    "# Preferential Attachment"
   ]
  },
  {
   "cell_type": "code",
   "execution_count": null,
   "metadata": {},
   "outputs": [],
   "source": [
    "import networkx as nx\n",
    "import freeman as fm\n",
    "\n",
    "from random import random, choices"
   ]
  },
  {
   "cell_type": "markdown",
   "metadata": {},
   "source": [
    "## Constantes"
   ]
  },
  {
   "cell_type": "code",
   "execution_count": null,
   "metadata": {},
   "outputs": [],
   "source": [
    "NUM_NODES = 100"
   ]
  },
  {
   "cell_type": "markdown",
   "metadata": {},
   "source": [
    "## Funções de conveniência"
   ]
  },
  {
   "cell_type": "code",
   "execution_count": null,
   "metadata": {},
   "outputs": [],
   "source": [
    "def add_node(g, n):\n",
    "    g.add_node(n)\n",
    "    g.nodes[n]['pos'] = (random(), random())\n",
    "    g.nodes[n]['size'] = 4\n",
    "    g.nodes[n]['color'] = (255, 0, 0)\n",
    "\n",
    "def add_edge(g, n, m):\n",
    "    g.nodes[n]['size'] += 2\n",
    "    g.nodes[m]['size'] += 2\n",
    "    g.add_edge(n, m)\n",
    "    g.edges[n, m]['color'] = (0, 0, 0, 0.5)"
   ]
  },
  {
   "cell_type": "markdown",
   "metadata": {},
   "source": [
    "## Animação\n",
    "\n",
    "Dependendo do número de nós, pode levar vários minutos."
   ]
  },
  {
   "cell_type": "code",
   "execution_count": null,
   "metadata": {},
   "outputs": [],
   "source": [
    "g = fm.Graph(nx.Graph())\n",
    "add_node(g, 0)\n",
    "add_node(g, 1)\n",
    "add_edge(g, 0, 1)\n",
    "graphs = [g]\n",
    "\n",
    "for n in range(2, NUM_NODES):\n",
    "    nodes = list(g.nodes)\n",
    "    weights = [g.degree(m) for m in g.nodes]\n",
    "    targets = choices(nodes, weights)\n",
    "    m = targets[0]\n",
    "\n",
    "    g = g.copy()\n",
    "    add_node(g, n)\n",
    "    add_edge(g, n, m)\n",
    "    g.move('step')\n",
    "    graphs.append(g)\n",
    "\n",
    "a = fm.Animation()\n",
    "a.burst(graphs)\n",
    "a.play()"
   ]
  }
 ],
 "metadata": {
  "kernelspec": {
   "display_name": "Python 3",
   "language": "python",
   "name": "python3"
  },
  "language_info": {
   "codemirror_mode": {
    "name": "ipython",
    "version": 3
   },
   "file_extension": ".py",
   "mimetype": "text/x-python",
   "name": "python",
   "nbconvert_exporter": "python",
   "pygments_lexer": "ipython3",
   "version": "3.7.4"
  }
 },
 "nbformat": 4,
 "nbformat_minor": 2
}
