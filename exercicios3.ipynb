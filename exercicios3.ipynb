{
 "cells": [
  {
   "cell_type": "markdown",
   "metadata": {},
   "source": [
    "# Exercícios da Aula 7\n",
    "\n",
    "Apenas um dos membros da dupla/trio precisa entregar. A dupla/trio não precisa ser a mesma do projeto."
   ]
  },
  {
   "cell_type": "code",
   "execution_count": null,
   "metadata": {},
   "outputs": [],
   "source": [
    "import networkx as nx\n",
    "import freeman as fm"
   ]
  },
  {
   "cell_type": "markdown",
   "metadata": {},
   "source": [
    "## Membros"
   ]
  },
  {
   "cell_type": "markdown",
   "metadata": {},
   "source": [
    "*(seu texto aqui)*"
   ]
  },
  {
   "cell_type": "markdown",
   "metadata": {},
   "source": [
    "Na two-mode abaixo, os nós à esquerda são vocês e os nós à direita são os estilos musicais."
   ]
  },
  {
   "cell_type": "code",
   "execution_count": null,
   "metadata": {},
   "outputs": [],
   "source": [
    "g = fm.load('dados/exercicios3/twomode.gml')\n",
    "g.set_all_nodes('size', 5)\n",
    "g.set_all_nodes('labpos', 'hover')\n",
    "g.move('bipartite', [n for n in g.nodes if g.nodes[n]['type'] == 'aluno'])\n",
    "g.draw()"
   ]
  },
  {
   "cell_type": "markdown",
   "metadata": {},
   "source": [
    "Dentro de cada grafo há um *dataframe* especial que pode armazenar dados de nós."
   ]
  },
  {
   "cell_type": "code",
   "execution_count": null,
   "metadata": {},
   "outputs": [],
   "source": [
    "g.nodeframe"
   ]
  },
  {
   "cell_type": "markdown",
   "metadata": {},
   "source": [
    "O método `set_nodecol` pode ser usado para adicionar uma coluna a esse dataframe. O primeiro parâmetro desse nome é o nome que você quer que a coluna tenha. O segundo parâmetro pode ser várias coisas. Por exemplo, pode ser o nome de um atributo. Vamos copiar os atributos `type` e `label`, que já vieram do `gml`, para o dataframe."
   ]
  },
  {
   "cell_type": "code",
   "execution_count": null,
   "metadata": {},
   "outputs": [],
   "source": [
    "g.set_nodecol('tipo', 'type')\n",
    "g.set_nodecol('nome', 'label')\n",
    "g.nodeframe"
   ]
  },
  {
   "cell_type": "markdown",
   "metadata": {},
   "source": [
    "O segundo parâmetro também pode ser uma função ou método que recebe um nó e devolve o valor correspondente ao nó. Se for passar alguma função desse tipo, lembre de **NÃO** abrir e fechar parênteses no final do nome da função, pois queremos passar a função em si e não o resultado dela."
   ]
  },
  {
   "cell_type": "code",
   "execution_count": null,
   "metadata": {},
   "outputs": [],
   "source": [
    "g.set_nodecol('indegree', g.in_degree)\n",
    "g.set_nodecol('outdegree', g.out_degree)\n",
    "g.nodeframe"
   ]
  },
  {
   "cell_type": "markdown",
   "metadata": {},
   "source": [
    "Por fim, o segundo parâmetro também pode ser um dicionário cujas chaves são os nós. A função `hits` da *NetworkX* devolve dois desses dicionários, um para os valores de *hub* e um para os valores de *authority*."
   ]
  },
  {
   "cell_type": "code",
   "execution_count": null,
   "metadata": {},
   "outputs": [],
   "source": [
    "h, a = nx.hits(g)\n",
    "g.set_nodecol('hub', h)\n",
    "g.set_nodecol('authority', a)\n",
    "g.nodeframe"
   ]
  },
  {
   "cell_type": "markdown",
   "metadata": {},
   "source": [
    "Podemos usar os recursos de filtro e ordenação do Pandas para descobrir os maiores hubs."
   ]
  },
  {
   "cell_type": "code",
   "execution_count": null,
   "metadata": {},
   "outputs": [],
   "source": [
    "df = g.nodeframe[g.nodeframe['tipo'] == 'aluno']\n",
    "df.sort_values('hub', ascending=False)"
   ]
  },
  {
   "cell_type": "markdown",
   "metadata": {},
   "source": [
    "Também podemos usar esses mesmos recursos para descobrir os maiores authorities."
   ]
  },
  {
   "cell_type": "code",
   "execution_count": null,
   "metadata": {},
   "outputs": [],
   "source": [
    "df = g.nodeframe[g.nodeframe['tipo'] == 'estilo']\n",
    "df.sort_values('authority', ascending=False)"
   ]
  },
  {
   "cell_type": "markdown",
   "metadata": {},
   "source": [
    "Depois que o dataframe está construído, é fácil usar o método `scaplot_nodes` para ver um gráfico de dispersão de duas métricas de nó. Basta passar como parâmetros os nomes das colunas desejadas."
   ]
  },
  {
   "cell_type": "code",
   "execution_count": null,
   "metadata": {},
   "outputs": [],
   "source": [
    "g.scaplot_nodes('outdegree', 'hub')"
   ]
  },
  {
   "cell_type": "markdown",
   "metadata": {},
   "source": [
    "## Pausem aqui para fazermos uma inserção!\n",
    "\n",
    "Considere agora a one-mode não-dirigida abaixo, que foi construída a partir da two-mode."
   ]
  },
  {
   "cell_type": "code",
   "execution_count": null,
   "metadata": {},
   "outputs": [],
   "source": [
    "g = fm.load('dados/exercicios3/onemode-from-twomode.gml')\n",
    "g.set_all_nodes('labpos', 'hover')\n",
    "g.move('kamada_kawai')\n",
    "g.draw()"
   ]
  },
  {
   "cell_type": "markdown",
   "metadata": {},
   "source": [
    "## Exercício 1\n",
    "\n",
    "Use a função [eigenvector_centrality](https://networkx.github.io/documentation/stable/reference/algorithms/generated/networkx.algorithms.centrality.eigenvector_centrality.html#networkx.algorithms.centrality.eigenvector_centrality) para calcular a *centralidade eigenvector* de cada nó. Coloque essas centralidades no dataframe dos nodes e mostre um gráfico de dispersão entre valor de *hub* e essa centralidade."
   ]
  },
  {
   "cell_type": "code",
   "execution_count": null,
   "metadata": {},
   "outputs": [],
   "source": [
    "# seu código aqui"
   ]
  },
  {
   "cell_type": "markdown",
   "metadata": {},
   "source": [
    "## Exercício 2\n",
    "\n",
    "Tente interpretar os resultados, propondo alguma razão para as discrepâncias entre as duas métricas. Não existe resposta certa, queremos ler as respostas depois para ver como vocês estão em interpretação."
   ]
  },
  {
   "cell_type": "markdown",
   "metadata": {},
   "source": [
    "*(seu texto aqui)*"
   ]
  },
  {
   "cell_type": "markdown",
   "metadata": {},
   "source": [
    "## Pausem aqui para fazermos uma inserção!\n",
    "\n",
    "Considere, para terminar a one-mode dirigida abaixo, que foi construída diretamente a partir do formulário."
   ]
  },
  {
   "cell_type": "code",
   "execution_count": null,
   "metadata": {},
   "outputs": [],
   "source": [
    "g = fm.load('dados/exercicios3/onemode-from-indication.gml')\n",
    "g.set_all_nodes('labpos', 'hover')\n",
    "g.move('kamada_kawai')\n",
    "g.draw()"
   ]
  },
  {
   "cell_type": "markdown",
   "metadata": {},
   "source": [
    "Use a função [pagerank](https://networkx.github.io/documentation/stable/reference/algorithms/generated/networkx.algorithms.link_analysis.pagerank_alg.pagerank.html#networkx.algorithms.link_analysis.pagerank_alg.pagerank) para calcular o *pagerank* de cada nó. Coloque esses pageranks no dataframe dos nodes.\n",
    "\n",
    "## Exercício 3\n",
    "\n",
    "Mostre um gráfico de dispersão entre valor de *hub* e pagerank."
   ]
  },
  {
   "cell_type": "code",
   "execution_count": null,
   "metadata": {},
   "outputs": [],
   "source": [
    "# seu código aqui"
   ]
  },
  {
   "cell_type": "markdown",
   "metadata": {},
   "source": [
    "## Exercício 4\n",
    "\n",
    "Mostre um gráfico de dispersão entre centralidade eigenvector e pagerank."
   ]
  },
  {
   "cell_type": "code",
   "execution_count": null,
   "metadata": {},
   "outputs": [],
   "source": [
    "# seu código aqui"
   ]
  },
  {
   "cell_type": "markdown",
   "metadata": {},
   "source": [
    "## Exercício 5\n",
    "\n",
    "Tente interpretar os resultados, buscando defender um dos três critérios para escolha de DJ como o melhor. Não existe resposta certa, queremos ler as respostas depois para ver como vocês estão em interpretação."
   ]
  },
  {
   "cell_type": "markdown",
   "metadata": {},
   "source": [
    "*(seu texto aqui)*"
   ]
  }
 ],
 "metadata": {
  "kernelspec": {
   "display_name": "Python 3",
   "language": "python",
   "name": "python3"
  },
  "language_info": {
   "codemirror_mode": {
    "name": "ipython",
    "version": 3
   },
   "file_extension": ".py",
   "mimetype": "text/x-python",
   "name": "python",
   "nbconvert_exporter": "python",
   "pygments_lexer": "ipython3",
   "version": "3.7.3"
  }
 },
 "nbformat": 4,
 "nbformat_minor": 2
}
