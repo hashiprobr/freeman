{
 "cells": [
  {
   "cell_type": "markdown",
   "metadata": {},
   "source": [
    "# Exercícios da Aula 7\n",
    "\n",
    "Apenas um dos membros da dupla/trio precisa entregar. A dupla/trio não precisa ser a mesma do projeto."
   ]
  },
  {
   "cell_type": "code",
   "execution_count": null,
   "metadata": {},
   "outputs": [],
   "source": [
    "import networkx as nx\n",
    "import freeman as fm"
   ]
  },
  {
   "cell_type": "markdown",
   "metadata": {},
   "source": [
    "## Membros"
   ]
  },
  {
   "cell_type": "markdown",
   "metadata": {},
   "source": [
    "*(seu texto aqui)*"
   ]
  },
  {
   "cell_type": "markdown",
   "metadata": {},
   "source": [
    "Na two-mode abaixo, os nós à esquerda são vocês e os nós à direita são os estilos musicais."
   ]
  },
  {
   "cell_type": "code",
   "execution_count": null,
   "metadata": {},
   "outputs": [],
   "source": [
    "g1 = fm.load('dados/exercicios3/twomode.gml')\n",
    "g1.set_all_nodes('size', 5)\n",
    "g1.set_all_nodes('labpos', 'hover')\n",
    "g1.move('bipartite', [n for n in g1.nodes if g1.nodes[n]['type'] == 'aluno'])\n",
    "g1.draw()"
   ]
  },
  {
   "cell_type": "markdown",
   "metadata": {},
   "source": [
    "Dentro de cada grafo há um *dataframe* especial que pode armazenar dados de nós."
   ]
  },
  {
   "cell_type": "code",
   "execution_count": null,
   "metadata": {},
   "outputs": [],
   "source": [
    "g1.nodeframe"
   ]
  },
  {
   "cell_type": "markdown",
   "metadata": {},
   "source": [
    "O método `set_nodecol` pode ser usado para adicionar uma coluna a esse dataframe. O primeiro parâmetro desse nome é o nome que você quer que a coluna tenha. O segundo parâmetro pode ser várias coisas. Por exemplo, pode ser o nome de um atributo. Vamos copiar os atributos `type` e `label`, que já vieram do `gml`, para o dataframe."
   ]
  },
  {
   "cell_type": "code",
   "execution_count": null,
   "metadata": {},
   "outputs": [],
   "source": [
    "g1.set_nodecol('tipo', 'type')\n",
    "g1.set_nodecol('nome', 'label')\n",
    "g1.nodeframe"
   ]
  },
  {
   "cell_type": "markdown",
   "metadata": {},
   "source": [
    "O segundo parâmetro também pode ser uma função ou método que recebe um nó e devolve o valor correspondente ao nó. Se for passar alguma função desse tipo, lembre de **NÃO** abrir e fechar parênteses no final do nome da função, pois queremos passar a função em si e não o resultado dela."
   ]
  },
  {
   "cell_type": "code",
   "execution_count": null,
   "metadata": {},
   "outputs": [],
   "source": [
    "g1.set_nodecol('indegree', g1.in_degree)\n",
    "g1.set_nodecol('outdegree', g1.out_degree)\n",
    "g1.nodeframe"
   ]
  },
  {
   "cell_type": "markdown",
   "metadata": {},
   "source": [
    "Por fim, o segundo parâmetro também pode ser um dicionário cujas chaves são os nós. A função `hits` da *NetworkX* devolve dois desses dicionários, um para os valores de *hub* e um para os valores de *authority*."
   ]
  },
  {
   "cell_type": "code",
   "execution_count": null,
   "metadata": {},
   "outputs": [],
   "source": [
    "h, a = nx.hits(g1)\n",
    "g1.set_nodecol('hub', h)\n",
    "g1.set_nodecol('authority', a)\n",
    "g1.nodeframe"
   ]
  },
  {
   "cell_type": "markdown",
   "metadata": {},
   "source": [
    "Podemos usar os recursos de filtro e ordenação do Pandas para descobrir os maiores hubs."
   ]
  },
  {
   "cell_type": "code",
   "execution_count": null,
   "metadata": {},
   "outputs": [],
   "source": [
    "df = g1.nodeframe[g1.nodeframe['tipo'] == 'aluno']\n",
    "df.sort_values('hub', ascending=False)"
   ]
  },
  {
   "cell_type": "markdown",
   "metadata": {},
   "source": [
    "Também podemos usar esses mesmos recursos para descobrir os maiores authorities."
   ]
  },
  {
   "cell_type": "code",
   "execution_count": null,
   "metadata": {},
   "outputs": [],
   "source": [
    "df = g1.nodeframe[g1.nodeframe['tipo'] == 'estilo']\n",
    "df.sort_values('authority', ascending=False)"
   ]
  },
  {
   "cell_type": "markdown",
   "metadata": {},
   "source": [
    "Depois que o dataframe está construído, é fácil usar o método `scaplot_nodes` para ver um gráfico de dispersão de duas métricas de nó. Basta passar como parâmetros os nomes das colunas desejadas."
   ]
  },
  {
   "cell_type": "code",
   "execution_count": null,
   "metadata": {},
   "outputs": [],
   "source": [
    "g1.scaplot_nodes('outdegree', 'hub')"
   ]
  },
  {
   "cell_type": "markdown",
   "metadata": {},
   "source": [
    "## Pausem aqui para fazermos uma inserção!\n",
    "\n",
    "Considere agora a one-mode não-dirigida abaixo, que foi construída a partir da two-mode."
   ]
  },
  {
   "cell_type": "code",
   "execution_count": null,
   "metadata": {},
   "outputs": [],
   "source": [
    "g2 = fm.load('dados/exercicios3/onemode-from-twomode.gml')\n",
    "g2.set_all_nodes('labpos', 'hover')\n",
    "g2.move('kamada_kawai')\n",
    "g2.draw()"
   ]
  },
  {
   "cell_type": "markdown",
   "metadata": {},
   "source": [
    "## Exercício 1\n",
    "\n",
    "Use a função [eigenvector_centrality](https://networkx.github.io/documentation/stable/reference/algorithms/generated/networkx.algorithms.centrality.eigenvector_centrality.html#networkx.algorithms.centrality.eigenvector_centrality) para calcular a *centralidade eigenvector* de cada nó. Coloque essas centralidades no dataframe dos nodes e mostre um gráfico de dispersão entre valor de *hub* e essa centralidade.\n",
    "\n",
    "**Atenção:** Por valor de hub, quero dizer o valor de hub *do grafo anterior, o two-mode* (`g1`). Não faz sentido recalcular o valor de hub para esse novo grafo, pois ele nem é dirigido!"
   ]
  },
  {
   "cell_type": "code",
   "execution_count": null,
   "metadata": {},
   "outputs": [],
   "source": [
    "# seu código aqui"
   ]
  },
  {
   "cell_type": "markdown",
   "metadata": {},
   "source": [
    "## Exercício 2\n",
    "\n",
    "Tente interpretar os resultados, propondo alguma razão para as discrepâncias entre as duas métricas. Não existe resposta certa, queremos ler as respostas depois para ver como vocês estão em interpretação."
   ]
  },
  {
   "cell_type": "markdown",
   "metadata": {},
   "source": [
    "*(seu texto aqui)*"
   ]
  },
  {
   "cell_type": "markdown",
   "metadata": {},
   "source": [
    "## Pausem aqui para fazermos uma inserção!\n",
    "\n",
    "Considere, para terminar a one-mode dirigida abaixo, que foi construída diretamente a partir do formulário."
   ]
  },
  {
   "cell_type": "code",
   "execution_count": null,
   "metadata": {},
   "outputs": [],
   "source": [
    "g3 = fm.load('dados/exercicios3/onemode-from-indication.gml')\n",
    "g3.set_all_nodes('labpos', 'hover')\n",
    "g3.move('kamada_kawai')\n",
    "g3.draw()"
   ]
  },
  {
   "cell_type": "markdown",
   "metadata": {},
   "source": [
    "Use a função [pagerank](https://networkx.github.io/documentation/stable/reference/algorithms/generated/networkx.algorithms.link_analysis.pagerank_alg.pagerank.html#networkx.algorithms.link_analysis.pagerank_alg.pagerank) para calcular o *pagerank* de cada nó. Coloque esses pageranks no dataframe dos nodes.\n",
    "\n",
    "## Exercício 3\n",
    "\n",
    "Mostre um gráfico de dispersão entre valor de *hub* e pagerank.\n",
    "\n",
    "**Atenção:** Por valor de hub, quero dizer o valor de hub *do primeiro grafo, o two-mode* (`g1`). Não faz sentido recalcular o valor de hub para esse novo grafo, pois ele não é two-mode!"
   ]
  },
  {
   "cell_type": "code",
   "execution_count": null,
   "metadata": {},
   "outputs": [],
   "source": [
    "# seu código aqui"
   ]
  },
  {
   "cell_type": "markdown",
   "metadata": {},
   "source": [
    "## Exercício 4\n",
    "\n",
    "Mostre um gráfico de dispersão entre centralidade eigenvector e pagerank.\n",
    "\n",
    "**Atenção:** Por centralidade eigenvector, quero dizer a centralidade eigenvector *do segundo grafo, o não-dirigido* (`g3`). Não faz sentido recalcular a centralidade eigenvector para esse novo grafo, pois ele é dirigido!"
   ]
  },
  {
   "cell_type": "code",
   "execution_count": null,
   "metadata": {},
   "outputs": [],
   "source": [
    "# seu código aqui"
   ]
  },
  {
   "cell_type": "markdown",
   "metadata": {},
   "source": [
    "## Exercício 5\n",
    "\n",
    "Tente interpretar os resultados, buscando defender um dos três critérios para escolha de DJ como o melhor. Não existe resposta certa, queremos ler as respostas depois para ver como vocês estão em interpretação."
   ]
  },
  {
   "cell_type": "markdown",
   "metadata": {},
   "source": [
    "*(seu texto aqui)*"
   ]
  },
  {
   "cell_type": "markdown",
   "metadata": {},
   "source": [
    "## Help Desk\n",
    "\n",
    "Se o notebook não está exibindo grafos, siga os passos abaixo.\n",
    "\n",
    "1. Confirme que nenhuma célula está lançando exceção. Se alguma estiver, resolva antes de continuar.\n",
    "\n",
    "2. Confirme que sua máquina está conectada à Internet. Se não estiver, reconecte antes de continuar.\n",
    "\n",
    "3. Na barra de menu do notebook, selecione *Cell → All Output → Clear* para limpar todas as saídas.\n",
    "\n",
    "4. Salve o notebook pela barra de ferramentas ou pelo atalho `Ctrl+s`.\n",
    "\n",
    "5. Feche o notebook, ou seja, feche a aba do navegador no qual ele está aberto.\n",
    "\n",
    "6. No gerenciador do Jupyter, selecione o notebook e clique no botão *Shutdown* para fechá-lo de verdade.\n",
    "\n",
    "7. Abra o notebook novamente."
   ]
  }
 ],
 "metadata": {
  "kernelspec": {
   "display_name": "Python 3",
   "language": "python",
   "name": "python3"
  },
  "language_info": {
   "codemirror_mode": {
    "name": "ipython",
    "version": 3
   },
   "file_extension": ".py",
   "mimetype": "text/x-python",
   "name": "python",
   "nbconvert_exporter": "python",
   "pygments_lexer": "ipython3",
   "version": "3.7.4"
  }
 },
 "nbformat": 4,
 "nbformat_minor": 2
}
