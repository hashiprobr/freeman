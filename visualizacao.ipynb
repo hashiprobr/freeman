{
 "cells": [
  {
   "cell_type": "markdown",
   "metadata": {},
   "source": [
    "# Visualização de Grafos"
   ]
  },
  {
   "cell_type": "code",
   "execution_count": null,
   "metadata": {},
   "outputs": [],
   "source": [
    "import networkx as nx\n",
    "import freeman as fm"
   ]
  },
  {
   "cell_type": "markdown",
   "metadata": {},
   "source": [
    "Vamos carregar uma rede social bem famosa, o [Zachary's karate club](https://en.wikipedia.org/wiki/Zachary%27s_karate_club)."
   ]
  },
  {
   "cell_type": "code",
   "execution_count": null,
   "metadata": {},
   "outputs": [],
   "source": [
    "g = fm.load('dados/famosos/karate.gml')\n",
    "g.draw()"
   ]
  },
  {
   "cell_type": "markdown",
   "metadata": {},
   "source": [
    "A visualização padrão de um grafo é totalmente aleatória, o que às vezes esconde o quanto certos nós são especiais.\n",
    "\n",
    "Vamos usar o algoritmo *Kamada-Kawai* para reposicionar os nós de acordo com *grupos*, ou seja, conjuntos de nós com alta densidade."
   ]
  },
  {
   "cell_type": "code",
   "execution_count": null,
   "metadata": {},
   "outputs": [],
   "source": [
    "g.move('kamada_kawai')\n",
    "g.draw()"
   ]
  },
  {
   "cell_type": "markdown",
   "metadata": {},
   "source": [
    "Vamos dar nomes aos bois? O método `label_nodes` atribui nomes aos nós. Quando não recebe nenhum parâmetro, esse nome é simplesmente o próprio nó. Funciona bem nesse caso, pois os nós são inteiros."
   ]
  },
  {
   "cell_type": "code",
   "execution_count": null,
   "metadata": {},
   "outputs": [],
   "source": [
    "g.label_nodes()\n",
    "g.draw()"
   ]
  },
  {
   "cell_type": "markdown",
   "metadata": {},
   "source": [
    "Podemos também colorizar nós.\n",
    "\n",
    "Isso não é muito útil para imagens estáticas, mas pode ser particularmente útil para acompanhar nós específicos ao longo de uma animação."
   ]
  },
  {
   "cell_type": "code",
   "execution_count": null,
   "metadata": {},
   "outputs": [],
   "source": [
    "g.colorize_nodes()\n",
    "g.draw()"
   ]
  },
  {
   "cell_type": "markdown",
   "metadata": {},
   "source": [
    "Como não estamos fazendo animações, vamos tirar todas as cores. Está muito brega."
   ]
  },
  {
   "cell_type": "code",
   "execution_count": null,
   "metadata": {},
   "outputs": [],
   "source": [
    "g.unset_nodes('color')\n",
    "g.draw()"
   ]
  },
  {
   "cell_type": "markdown",
   "metadata": {},
   "source": [
    "Vamos agora considerar alguns tipos de centralidade. Vocês já conhecem o *degree* e o *betweenness*. Esse último pode ser calculado com a ajuda da biblioteca *NetworkX*. A resposta é um dicionário no qual as chaves são os nós e os valores são os respectivos betweennesses."
   ]
  },
  {
   "cell_type": "code",
   "execution_count": null,
   "metadata": {},
   "outputs": [],
   "source": [
    "b = nx.betweenness_centrality(g)\n",
    "\n",
    "for n in b:\n",
    "    print(n, b[n])"
   ]
  },
  {
   "cell_type": "markdown",
   "metadata": {},
   "source": [
    "Vamos apresentar agora uma nova centralidade, o *closeness*. Essa centralidade, que definiremos mais formalmente em uma aula posterior, representa o quanto um nó está próximo de todos os outros nós da rede. Se em média você precisa dar poucos passos para chegar a outro nó a partir de `n`, então `n` tem alto closeness."
   ]
  },
  {
   "cell_type": "code",
   "execution_count": null,
   "metadata": {},
   "outputs": [],
   "source": [
    "b = nx.closeness_centrality(g)\n",
    "\n",
    "for n in b:\n",
    "    print(n, b[n])"
   ]
  },
  {
   "cell_type": "markdown",
   "metadata": {},
   "source": [
    "Como podemos visualizar essas centralidades no grafo? Podemos mapeá-las para tamanhos! O método `scale_nodes_size` usa algum dado dos nós para definir seus tamanhos. Esse dado pode vir de uma função externa, como degree..."
   ]
  },
  {
   "cell_type": "code",
   "execution_count": null,
   "metadata": {},
   "outputs": [],
   "source": [
    "g.scale_nodes_size(g.degree)\n",
    "g.draw()"
   ]
  },
  {
   "cell_type": "markdown",
   "metadata": {},
   "source": [
    "...mas também pode vir de dicionários como aqueles devolvidos pelas funções de betweenness e closeness da NetworkX."
   ]
  },
  {
   "cell_type": "code",
   "execution_count": null,
   "metadata": {},
   "outputs": [],
   "source": [
    "g.scale_nodes_size(nx.betweenness_centrality(g))\n",
    "g.draw()"
   ]
  },
  {
   "cell_type": "markdown",
   "metadata": {},
   "source": [
    "Parece existir uma certa correlação entre degree e betweenness. Vamos checar isso visualmente?\n",
    "\n",
    "Em vez de um gráfico de dispersão comum, vamos fazer um gráfico de dispersão *usando o próprio grafo*!"
   ]
  },
  {
   "cell_type": "code",
   "execution_count": null,
   "metadata": {},
   "outputs": [],
   "source": [
    "g.scatter(g.degree, nx.betweenness_centrality(g))\n",
    "g.draw()"
   ]
  },
  {
   "cell_type": "markdown",
   "metadata": {},
   "source": [
    "Isso não ficou legal. Vamos resetar os tamanhos e passar um `log + 1` nos dois eixos."
   ]
  },
  {
   "cell_type": "code",
   "execution_count": null,
   "metadata": {},
   "outputs": [],
   "source": [
    "g.unset_nodes('size')\n",
    "g.scatter(fm.Log(g.degree, 1), fm.Log(nx.betweenness_centrality(g), 1))\n",
    "g.draw()"
   ]
  },
  {
   "cell_type": "markdown",
   "metadata": {},
   "source": [
    "Voltemos às posições anteriores..."
   ]
  },
  {
   "cell_type": "code",
   "execution_count": null,
   "metadata": {},
   "outputs": [],
   "source": [
    "g.move('kamada_kawai')\n",
    "g.draw()"
   ]
  },
  {
   "cell_type": "markdown",
   "metadata": {},
   "source": [
    "Um gradiente de níveis de cinza também pode ser usado para exibir algum atributo numérico."
   ]
  },
  {
   "cell_type": "code",
   "execution_count": null,
   "metadata": {},
   "outputs": [],
   "source": [
    "g.scale_nodes_dark(nx.closeness_centrality(g))\n",
    "g.draw()"
   ]
  },
  {
   "cell_type": "markdown",
   "metadata": {},
   "source": [
    "Também podemos fazer um mapa de calor a partir de um atributo. A diferença de mapas de calor para gradientes comuns é que eles possuem um valor central de *referência*, ou seja, é fácil identificar os nós que estão acima e abaixo dessa referência. Por padrão essa referência é a média."
   ]
  },
  {
   "cell_type": "code",
   "execution_count": null,
   "metadata": {},
   "outputs": [],
   "source": [
    "g.heat_nodes(nx.betweenness_centrality(g))\n",
    "g.draw()"
   ]
  },
  {
   "cell_type": "markdown",
   "metadata": {},
   "source": [
    "Existem operações análogas para todas essas em relação às arestas."
   ]
  }
 ],
 "metadata": {
  "kernelspec": {
   "display_name": "Python 3",
   "language": "python",
   "name": "python3"
  },
  "language_info": {
   "codemirror_mode": {
    "name": "ipython",
    "version": 3
   },
   "file_extension": ".py",
   "mimetype": "text/x-python",
   "name": "python",
   "nbconvert_exporter": "python",
   "pygments_lexer": "ipython3",
   "version": "3.7.4"
  }
 },
 "nbformat": 4,
 "nbformat_minor": 2
}
