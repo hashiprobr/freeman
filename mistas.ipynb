{
 "cells": [
  {
   "cell_type": "markdown",
   "metadata": {},
   "source": [
    "# Contínuas X Categóricas"
   ]
  },
  {
   "cell_type": "code",
   "execution_count": null,
   "metadata": {},
   "outputs": [],
   "source": [
    "import pandas as pd\n",
    "import freeman as fm"
   ]
  },
  {
   "cell_type": "markdown",
   "metadata": {},
   "source": [
    "**Revisão de Pandas:** como carregar dataframes a partir de arquivos CSV."
   ]
  },
  {
   "cell_type": "code",
   "execution_count": null,
   "metadata": {},
   "outputs": [],
   "source": [
    "df = pd.read_csv('dados/artificiais/mistos.csv')"
   ]
  },
  {
   "cell_type": "markdown",
   "metadata": {},
   "source": [
    "Use a função `boxplot` para exibir gráficos de caixa.\n",
    "\n",
    "No exemplo abaixo, exibimos o gráfico das colunas `x` e `y`."
   ]
  },
  {
   "cell_type": "code",
   "execution_count": null,
   "metadata": {},
   "outputs": [],
   "source": [
    "fm.boxplot(df, 'x', 'y')"
   ]
  },
  {
   "cell_type": "markdown",
   "metadata": {},
   "source": [
    "Use a função `mixtest` para fazer testes-t entre todos os pares de categoria.\n",
    "\n",
    "Como podemos ver abaixo, os valores de `x` não são muito bons para diferenciar `A` de `B` ou `C` de `D`, mas são bons para diferenciar os outros casos."
   ]
  },
  {
   "cell_type": "code",
   "execution_count": null,
   "metadata": {},
   "outputs": [],
   "source": [
    "fm.mixtest(df, 'x', 'y')"
   ]
  },
  {
   "cell_type": "markdown",
   "metadata": {},
   "source": [
    "Quando a variável dependente é categórica, não podemos usar uma regressão linear, mas podemos usar uma logística.\n",
    "\n",
    "O problema é que nesse caso a dependente é uma categórica não-binária.\n",
    "\n",
    "Vamos resolver isso fazendo um one-hot encoding."
   ]
  },
  {
   "cell_type": "code",
   "execution_count": null,
   "metadata": {},
   "outputs": [],
   "source": [
    "df = fm.binencode(df, 'y')"
   ]
  },
  {
   "cell_type": "markdown",
   "metadata": {},
   "source": [
    "Veja como o dataframe fica depois do encoding."
   ]
  },
  {
   "cell_type": "code",
   "execution_count": null,
   "metadata": {},
   "outputs": [],
   "source": [
    "df"
   ]
  },
  {
   "cell_type": "markdown",
   "metadata": {},
   "source": [
    "Use a função `logregress` para fazer uma regressão logística.\n",
    "\n",
    "O primeiro parâmetro é uma lista porque podemos passar múltiplas variáveis independentes."
   ]
  },
  {
   "cell_type": "code",
   "execution_count": null,
   "metadata": {},
   "outputs": [],
   "source": [
    "fm.logregress(df, ['x'], 'y_A')"
   ]
  },
  {
   "cell_type": "markdown",
   "metadata": {},
   "source": [
    "Note que a regressão é apenas para uma das colunas geradas pelo one-hot encoding.\n",
    "\n",
    "Para ter o contexto geral, é bom fazer uma regressão para cada coluna."
   ]
  }
 ],
 "metadata": {
  "kernelspec": {
   "display_name": "Python 3",
   "language": "python",
   "name": "python3"
  },
  "language_info": {
   "codemirror_mode": {
    "name": "ipython",
    "version": 3
   },
   "file_extension": ".py",
   "mimetype": "text/x-python",
   "name": "python",
   "nbconvert_exporter": "python",
   "pygments_lexer": "ipython3",
   "version": "3.7.4"
  }
 },
 "nbformat": 4,
 "nbformat_minor": 2
}
