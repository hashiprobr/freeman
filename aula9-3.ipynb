{
 "cells": [
  {
   "cell_type": "markdown",
   "metadata": {},
   "source": [
    "# Aula 9, Parte C"
   ]
  },
  {
   "cell_type": "code",
   "execution_count": null,
   "metadata": {},
   "outputs": [],
   "source": [
    "import networkx as nx\n",
    "import freeman as fm\n",
    "\n",
    "from random import random, choice"
   ]
  },
  {
   "cell_type": "markdown",
   "metadata": {},
   "source": [
    "Os pesquisadores *Duncan Watts* e *Steven Strogatz* usaram os benchmarks que vocês acabaram de descobrir para propor um modelo capaz de gerar redes Small World artificialmente.\n",
    "\n",
    "A ideia é surpreendentemente simples: se um Small World está \"entre\" um anel regular e um grafo aleatório, então o que podemos fazer é \"aleatorizar\" um anel regular, mas não totalmente. Isso o coloca em um estado \"intermediário\" entre os dois tipos de grafo, com menor *average path length* mas maior *clustering coefficient*.\n",
    "\n",
    "Mais interessante ainda é que o nível de \"aleatorização\" pode ser parametrizado: podemos controlar se o grafo tem mais cara de anel ou mais cara de random. Basta seguir o procedimento abaixo.\n",
    "\n",
    "    gere um anel regular\n",
    "    para cada aresta do anel regular:\n",
    "        com probabilidade BETA, essa aresta é \"religada\": uma das pontas muda para outro nó escolhido aleatoriamente"
   ]
  },
  {
   "cell_type": "code",
   "execution_count": null,
   "metadata": {},
   "outputs": [],
   "source": [
    "NUM_NODES = 20\n",
    "AVG_DEGREE = 6\n",
    "BETA = 0.5\n",
    "\n",
    "# gerando anel regular\n",
    "\n",
    "g = fm.Graph(nx.empty_graph(NUM_NODES))\n",
    "nodes = list(g.nodes)\n",
    "for i, n in enumerate(nodes):\n",
    "    for shift in range(AVG_DEGREE // 2):\n",
    "        g.add_edge(n, nodes[(i + shift + 1) % len(nodes)])\n",
    "g.move('circular')\n",
    "\n",
    "# aleatorizando\n",
    "\n",
    "a = fm.Animation()\n",
    "edges = list(g.edges)\n",
    "graphs = [g]\n",
    "for n, m in edges:\n",
    "    if random() < BETA:\n",
    "        g.remove_edge(n, m)\n",
    "    l = choice([l for l in g.nodes if n != l and not g.has_edge(n, l)])\n",
    "    g.add_edge(n, l)\n",
    "    graphs.append(g.copy())\n",
    "a.burst(graphs)\n",
    "a.play()"
   ]
  }
 ],
 "metadata": {
  "kernelspec": {
   "display_name": "Python 3",
   "language": "python",
   "name": "python3"
  },
  "language_info": {
   "codemirror_mode": {
    "name": "ipython",
    "version": 3
   },
   "file_extension": ".py",
   "mimetype": "text/x-python",
   "name": "python",
   "nbconvert_exporter": "python",
   "pygments_lexer": "ipython3",
   "version": "3.7.3"
  }
 },
 "nbformat": 4,
 "nbformat_minor": 2
}
