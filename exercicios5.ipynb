{
 "cells": [
  {
   "cell_type": "markdown",
   "metadata": {},
   "source": [
    "# Material Complementar da Aula 15"
   ]
  },
  {
   "cell_type": "code",
   "execution_count": null,
   "metadata": {},
   "outputs": [],
   "source": [
    "import networkx as nx\n",
    "import freeman as fm\n",
    "\n",
    "from math import isclose\n",
    "from random import choice, shuffle"
   ]
  },
  {
   "cell_type": "markdown",
   "metadata": {},
   "source": [
    "Os resultados do notebook anterior foram originalmente obtidos pelos pesquisadores Vincent Buskens e Arnout van de Rijt no artigo *Dynamics of networks if everyone strives for structural holes*. Os resultados implicam que, se todo mundo tenta levar vantagem, ninguém na prática leva muita vantagem no final.\n",
    "\n",
    "No entanto, cabe observar que \"everyone strives for structural holes\" é uma premissa bem forte! Nem todo mundo é um \"striver\" por lacunas estruturais, talvez alguns empreendedores fiquem na deles ou usem estratégias diferentes.\n",
    "\n",
    "Vamos então repensar a simulação. Comecemos pela parte do código que permanece igual, salvo o nome da função `constraint` que foi substituído pela função `striver_constraint`."
   ]
  },
  {
   "cell_type": "code",
   "execution_count": null,
   "metadata": {},
   "outputs": [],
   "source": [
    "def investment(g, n, m):\n",
    "    if g.has_edge(n, m):\n",
    "        return 1 / g.degree(n)\n",
    "    return 0\n",
    "\n",
    "def local_constraint(g, n, m):\n",
    "    i = investment(g, n, m)\n",
    "    for k in g.neighbors(n):\n",
    "        i += investment(g, n, k) * investment(g, k, m)\n",
    "    return i**2\n",
    "\n",
    "def striver_constraint(g, n):\n",
    "    if g.degree(n) == 0:\n",
    "        return 2\n",
    "    c = 0\n",
    "    for m in g.neighbors(n):\n",
    "        c += local_constraint(g, n, m)\n",
    "    return c"
   ]
  },
  {
   "cell_type": "markdown",
   "metadata": {},
   "source": [
    "É sempre uma boa ideia evitar muita variedade de parâmetros logo de cara, por causa da potencial explosão combinatória de possibilidades para simular. Assim, vamos propor uma extensão que divide agentes em dois tipos: os \"strivers\" originais e os \"hipsters\" que têm algum tipo diferente de comportamento. Disso segue uma nova função `constraint`."
   ]
  },
  {
   "cell_type": "code",
   "execution_count": null,
   "metadata": {},
   "outputs": [],
   "source": [
    "def constraint(g, n):\n",
    "    if g.nodes[n]['agent'] == 'striver':\n",
    "        return striver_constraint(g, n)\n",
    "    return hipster_constraint(g, n)"
   ]
  },
  {
   "cell_type": "markdown",
   "metadata": {},
   "source": [
    "Temos então duas variáveis a considerar:\n",
    "\n",
    "1. qual exatamente é o comportamento desses \"hipsters\";\n",
    "\n",
    "2. qual é a proporção de \"strivers\" e \"hipsters\".\n",
    "\n",
    "O segundo pode ser facilmente transformado em um novo parâmetro da simulação. Vamos propor uma nova subclasse de `Simulation`."
   ]
  },
  {
   "cell_type": "code",
   "execution_count": null,
   "metadata": {},
   "outputs": [],
   "source": [
    "class HoleSimulation(fm.Simulation):\n",
    "\n",
    "\n",
    "    # Agora, além de receber o número de nós, o construtor\n",
    "    # também recebe o número de strivers. Por simplicidade,\n",
    "    # entende-se que todos os outros agentes são hipsters.\n",
    "    def __init__(self, num_nodes, num_strivers):\n",
    "        self.num_nodes = num_nodes\n",
    "        self.num_strivers = num_strivers\n",
    "\n",
    "\n",
    "    # Agora, além de construir o grafo, escolhemos de forma\n",
    "    # aleatória quais nós são strivers e quais são hipsters.\n",
    "    def before_each(self):\n",
    "        g = fm.Graph(nx.erdos_renyi_graph(self.num_nodes, 0.5))\n",
    "        nodes = list(g.nodes)\n",
    "        shuffle(nodes)\n",
    "        for n in nodes[:self.num_strivers]:\n",
    "            g.nodes[n]['agent'] = 'striver'\n",
    "        for n in nodes[self.num_strivers:]:\n",
    "            g.nodes[n]['agent'] = 'hipster'\n",
    "        self.g = g\n",
    "\n",
    "\n",
    "    # Já a iteração permanece exatamente a mesma de antes.\n",
    "    def iterate(self):\n",
    "        g = self.g\n",
    "        constraints = {}\n",
    "        nodes = list(g.nodes)\n",
    "        shuffle(nodes)\n",
    "        for n in nodes:\n",
    "            if n not in constraints:\n",
    "                constraints[n] = constraint(g, n)\n",
    "            impacts = {}\n",
    "            for m in nodes:\n",
    "                if n != m:\n",
    "                    if m not in constraints:\n",
    "                        constraints[m] = constraint(g, m)\n",
    "                    g.flip_existence(n, m)\n",
    "                    if g.has_edge(n, m) and constraint(g, m) > constraints[m]:\n",
    "                        impacts[m] = 0\n",
    "                    else:\n",
    "                        impacts[m] = constraint(g, n) - constraints[n]\n",
    "                    g.flip_existence(n, m)\n",
    "            lowest = min(value for value in impacts.values())\n",
    "            if lowest < 0:\n",
    "                m = choice([m for m in impacts if isclose(impacts[m], lowest)])\n",
    "                g.flip_existence(n, m)\n",
    "                return True\n",
    "        return False\n",
    "\n",
    "\n",
    "    # Aqui não mudamos quase nada. Mas em vez de adicionar\n",
    "    # os ids dos nós, adicionamos o perfil de cada um.\n",
    "    def after_each(self, repetition, iterations, elapsed):\n",
    "        g = self.g\n",
    "\n",
    "        b = nx.betweenness_centrality(g)\n",
    "\n",
    "        for n in g.nodes:\n",
    "            self.append({\n",
    "                'agent': g.nodes[n]['agent'],\n",
    "                'betweenness': b[n],\n",
    "            })\n",
    "\n",
    "        # Como o conjunto de simulações é demorado, vamos\n",
    "        # usar o método print para ficar dando feedbacks.\n",
    "        # Temos à disposição, como parâmetros deste método,\n",
    "        # algumas informações interessantes como o número\n",
    "        # de iterações e o tempo consumido pela simulação.\n",
    "        self.print({\n",
    "            'num_strivers': self.num_strivers,\n",
    "            'repetition': repetition,\n",
    "            'iterations': iterations,\n",
    "            'elapsed': elapsed,\n",
    "        })"
   ]
  },
  {
   "cell_type": "markdown",
   "metadata": {},
   "source": [
    "O primeiro resume-se a definir a função `hipster_constraint`. Podemos, por exemplo, definir que eles na verdade são totalmente indiferentes. Ou seja, a função sempre devolve zero independentemente da situação da rede."
   ]
  },
  {
   "cell_type": "code",
   "execution_count": null,
   "metadata": {},
   "outputs": [],
   "source": [
    "def hipster_constraint(g, n):\n",
    "    return 0"
   ]
  },
  {
   "cell_type": "markdown",
   "metadata": {},
   "source": [
    "Vamos então realizar várias simulações e visualizar os resultados."
   ]
  },
  {
   "cell_type": "code",
   "execution_count": null,
   "metadata": {},
   "outputs": [],
   "source": [
    "# Para maior segurança estatística, esses números\n",
    "# deveriam ser maiores. Porém, isso deixaria a\n",
    "# elaboração dos exercícios muito demorada.\n",
    "NUM_NODES = 10\n",
    "NUM_TIMES = 10\n",
    "\n",
    "\n",
    "# Vamos guardar todos os resultados em um dicionário\n",
    "# de dataframes. Chaves são números de strivers e\n",
    "# valores são os respectivos dicionários obtidos.\n",
    "dfs = {}\n",
    "\n",
    "# Vamos variar o número de strivers de zero até o\n",
    "# número total de nós (ou seja, zero hipsters).\n",
    "for num_strivers in range(0, NUM_NODES + 1):\n",
    "    s = HoleSimulation(NUM_NODES, num_strivers)\n",
    "\n",
    "    # Como há fatores aleatórios envolvidos (ex:\n",
    "    # construção da rede, distribuição dos agentes),\n",
    "    # não podemos confiar em uma única simulação.\n",
    "    # Então fazemos várias para considerar a média.\n",
    "    # O método run da simulação aceita um parâmetro\n",
    "    # times que permite especificar quantas repetições.\n",
    "    dfs[num_strivers] = s.run(times=NUM_TIMES)\n",
    "\n",
    "# A função concat junta todos os dataframes em um só,\n",
    "# usando as chaves para distinguir as linhas de cada\n",
    "# um. O segundo parâmetro é o nome de uma coluna\n",
    "# adicional onde você quer guardar essas chaves.\n",
    "df = fm.concat(dfs, 'number of strivers')"
   ]
  },
  {
   "cell_type": "markdown",
   "metadata": {},
   "source": [
    "Vamos usar o método `linplot` para ver o betweenness médio (no final da simulação) em função do número de strivers. O parâmetro `control` serve para separar os gráficos de strivers e hipsters."
   ]
  },
  {
   "cell_type": "code",
   "execution_count": null,
   "metadata": {},
   "outputs": [],
   "source": [
    "fm.linplot(df, 'number of strivers', 'betweenness', control='agent')"
   ]
  },
  {
   "cell_type": "markdown",
   "metadata": {},
   "source": [
    "Nesse exemplo, os resultados sugerem que, a partir de dois strivers, a situação degenera para o mesmo resultado original. No entanto, quando o striver é único, ele parece de fato conseguir um betweenness superior. Idealmente, seria bom fixar esse parâmetro e validar essa superioridade via teste-t."
   ]
  },
  {
   "cell_type": "markdown",
   "metadata": {},
   "source": [
    "## Exercício 1\n",
    "\n",
    "Implemente uma versão da `hipster_constraint` que seja o completo oposto do \"striver\", ou seja, o comportamento de **rejeitar degree e querer redundância**. Para fins de comparação, o valor devolvido **não pode ser negativo**. Para evitar nós isolados, mantenha a restrição de que é excepcionalmente 2 quando o degree é zero.\n",
    "\n",
    "**Dica:** exceto no caso em que o degree é zero, o valor máximo possível da `striver_constraint` é 9/8."
   ]
  },
  {
   "cell_type": "code",
   "execution_count": null,
   "metadata": {},
   "outputs": [],
   "source": [
    "def hipster_constraint(g, n):\n",
    "    pass # seu código aqui"
   ]
  },
  {
   "cell_type": "markdown",
   "metadata": {},
   "source": [
    "Interprete sucintamente os resultados e indique o que você poderia fazer para complementá-los."
   ]
  },
  {
   "cell_type": "markdown",
   "metadata": {},
   "source": [
    "*(seu texto aqui)*"
   ]
  },
  {
   "cell_type": "markdown",
   "metadata": {},
   "source": [
    "## Exercício 2\n",
    "\n",
    "Implemente uma versão da `hipster_constraint` que seja uma \"versão parcial\" do \"striver\", ou seja, o comportamento de **apenas querer degree**. Para fins de comparação, o valor devolvido **não pode ser negativo**. Não precisa se basear na fórmula original, há meios mais fáceis."
   ]
  },
  {
   "cell_type": "code",
   "execution_count": null,
   "metadata": {},
   "outputs": [],
   "source": [
    "def hipster_constraint(g, n):\n",
    "    pass # seu código aqui"
   ]
  },
  {
   "cell_type": "markdown",
   "metadata": {},
   "source": [
    "Interprete sucintamente os resultados e indique o que você poderia fazer para complementá-los."
   ]
  },
  {
   "cell_type": "markdown",
   "metadata": {},
   "source": [
    "*(seu texto aqui)*"
   ]
  },
  {
   "cell_type": "markdown",
   "metadata": {},
   "source": [
    "## Exercício 3\n",
    "\n",
    "Implemente uma versão da `hipster_constraint` que seja um \"oposto parcial\" do \"striver\", ou seja, o comportamento de **querer redundância**. Para fins de comparação, o valor devolvido **não pode ser negativo**. Não precisa se basear na fórmula original, há meios mais fáceis."
   ]
  },
  {
   "cell_type": "code",
   "execution_count": null,
   "metadata": {},
   "outputs": [],
   "source": [
    "def hipster_constraint(g, n):\n",
    "    pass # seu código aqui"
   ]
  },
  {
   "cell_type": "markdown",
   "metadata": {},
   "source": [
    "Interprete sucintamente os resultados e indique o que você poderia fazer para complementá-los."
   ]
  },
  {
   "cell_type": "markdown",
   "metadata": {},
   "source": [
    "*(seu texto aqui)*"
   ]
  },
  {
   "cell_type": "markdown",
   "metadata": {},
   "source": [
    "E você ainda pode voltar ao handout para os últimos desafios..."
   ]
  }
 ],
 "metadata": {
  "kernelspec": {
   "display_name": "Python 3",
   "language": "python",
   "name": "python3"
  },
  "language_info": {
   "codemirror_mode": {
    "name": "ipython",
    "version": 3
   },
   "file_extension": ".py",
   "mimetype": "text/x-python",
   "name": "python",
   "nbconvert_exporter": "python",
   "pygments_lexer": "ipython3",
   "version": "3.7.4"
  }
 },
 "nbformat": 4,
 "nbformat_minor": 2
}
