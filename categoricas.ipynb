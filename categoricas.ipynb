{
 "cells": [
  {
   "cell_type": "markdown",
   "metadata": {},
   "source": [
    "# Categóricas X Categóricas"
   ]
  },
  {
   "cell_type": "code",
   "execution_count": null,
   "metadata": {},
   "outputs": [],
   "source": [
    "import pandas as pd\n",
    "import freeman as fm"
   ]
  },
  {
   "cell_type": "markdown",
   "metadata": {},
   "source": [
    "**Revisão de Pandas:** como carregar dataframes a partir de arquivos CSV."
   ]
  },
  {
   "cell_type": "code",
   "execution_count": null,
   "metadata": {},
   "outputs": [],
   "source": [
    "df = pd.read_csv('dados/artificiais/alunos.csv')"
   ]
  },
  {
   "cell_type": "markdown",
   "metadata": {},
   "source": [
    "Use a função `contable` para obter tabelas de contingência.\n",
    "\n",
    "No exemplo abaixo, obtemos a tabela das colunas `curso` e `tipo`."
   ]
  },
  {
   "cell_type": "code",
   "execution_count": null,
   "metadata": {},
   "outputs": [],
   "source": [
    "fm.contable(df, 'curso', 'tipo')"
   ]
  },
  {
   "cell_type": "markdown",
   "metadata": {},
   "source": [
    "Lembre que as proporções são relativas ao todo, portanto olhar uma linha ou coluna pode ser enganoso.\n",
    "\n",
    "Podemos usar a função `valcount` para analisar as proporções de uma linha ou coluna isolada.\n",
    "\n",
    "**Revisão de Pandas:** é fácil filtrar um dataframe, embora a sintaxe seja um pouco esquisita."
   ]
  },
  {
   "cell_type": "code",
   "execution_count": null,
   "metadata": {},
   "outputs": [],
   "source": [
    "df_bio = df[df['curso'] == 'humanas']\n",
    "\n",
    "fm.valcount(df_bio, 'tipo')"
   ]
  },
  {
   "cell_type": "markdown",
   "metadata": {},
   "source": [
    "Use a função `corplot` para fazer uma análise de correspondência."
   ]
  },
  {
   "cell_type": "code",
   "execution_count": null,
   "metadata": {},
   "outputs": [],
   "source": [
    "fm.corplot(df, 'curso', 'tipo')"
   ]
  },
  {
   "cell_type": "markdown",
   "metadata": {},
   "source": [
    "Use a função `chitest` para fazer um teste chi-quadrado."
   ]
  },
  {
   "cell_type": "code",
   "execution_count": null,
   "metadata": {},
   "outputs": [],
   "source": [
    "c, p = fm.chitest(df, 'curso', 'tipo')"
   ]
  },
  {
   "cell_type": "markdown",
   "metadata": {},
   "source": [
    "O segundo valor devolvido é o p-valor, que nesse caso é bem acima de 5%, indicando alta incerteza."
   ]
  },
  {
   "cell_type": "code",
   "execution_count": null,
   "metadata": {},
   "outputs": [],
   "source": [
    "print(p)"
   ]
  },
  {
   "cell_type": "markdown",
   "metadata": {},
   "source": [
    "Quando a variável dependente é categórica, não podemos usar uma regressão linear, mas podemos usar uma logística.\n",
    "\n",
    "O problema é que nesse caso a independente também é categórica!\n",
    "\n",
    "Vamos resolver isso fazendo um one-hot encoding usando a função `encode`."
   ]
  },
  {
   "cell_type": "code",
   "execution_count": null,
   "metadata": {},
   "outputs": [],
   "source": [
    "cols = fm.encode(df, ['curso'])"
   ]
  },
  {
   "cell_type": "markdown",
   "metadata": {},
   "source": [
    "Veja como o dataframe fica depois do encoding. O nome das novas colunas foi devolvido pela função."
   ]
  },
  {
   "cell_type": "code",
   "execution_count": null,
   "metadata": {},
   "outputs": [],
   "source": [
    "print(cols)\n",
    "df"
   ]
  },
  {
   "cell_type": "markdown",
   "metadata": {},
   "source": [
    "Use a função `logregress` para fazer uma regressão logística.\n",
    "\n",
    "O primeiro parâmetro é uma lista porque podemos passar múltiplas variáveis independentes."
   ]
  },
  {
   "cell_type": "code",
   "execution_count": null,
   "metadata": {},
   "outputs": [],
   "source": [
    "coefs, score = fm.logregress(df, cols, 'tipo')"
   ]
  },
  {
   "cell_type": "markdown",
   "metadata": {},
   "source": [
    "O segundo valor devolvido é a qualidade do modelo obtido pela regressão.\n",
    "\n",
    "Nesse caso, a qualidade é meia-boca, o que é compreensível quando observamos o gráfico."
   ]
  },
  {
   "cell_type": "code",
   "execution_count": null,
   "metadata": {},
   "outputs": [],
   "source": [
    "print(score)"
   ]
  }
 ],
 "metadata": {
  "kernelspec": {
   "display_name": "Python 3",
   "language": "python",
   "name": "python3"
  },
  "language_info": {
   "codemirror_mode": {
    "name": "ipython",
    "version": 3
   },
   "file_extension": ".py",
   "mimetype": "text/x-python",
   "name": "python",
   "nbconvert_exporter": "python",
   "pygments_lexer": "ipython3",
   "version": "3.7.4"
  }
 },
 "nbformat": 4,
 "nbformat_minor": 2
}
