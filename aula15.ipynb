{
 "cells": [
  {
   "cell_type": "markdown",
   "metadata": {},
   "source": [
    "# Material Complementar da Aula 15"
   ]
  },
  {
   "cell_type": "code",
   "execution_count": null,
   "metadata": {},
   "outputs": [],
   "source": [
    "import networkx as nx\n",
    "import freeman as fm\n",
    "\n",
    "from math import isclose\n",
    "from random import choice, shuffle"
   ]
  },
  {
   "cell_type": "markdown",
   "metadata": {},
   "source": [
    "Vamos seguir um modelo simplificado, no qual um empreendedor distribui tempo e recursos de forma igual dentre suas conexões.\n",
    "\n",
    "O **investimento** de tempo e recursos que $n$ dedica a sua relação com $m$ é\n",
    "\n",
    "$$i_{nm} = \\left\\{\\begin{array}{ll}\n",
    "\\frac{1}{d_n} & \\textrm{se existe aresta entre }n\\textrm{ e }m;\\\\\n",
    "            0 & \\textrm{caso contrário},\\\\\n",
    "\\end{array}\\right.$$\n",
    "\n",
    "onde $d_n$ é o degree de $n$."
   ]
  },
  {
   "cell_type": "code",
   "execution_count": null,
   "metadata": {},
   "outputs": [],
   "source": [
    "def investment(g, n, m):\n",
    "    if g.has_edge(n, m):\n",
    "        return 1 / g.degree(n)\n",
    "    return 0"
   ]
  },
  {
   "cell_type": "markdown",
   "metadata": {},
   "source": [
    "Vamos propor uma métrica que um empreendedor busque *reduzir* para conseguir lacunas estruturais.\n",
    "\n",
    "A **restrição local** de $n$ em relação a $m$ é\n",
    "\n",
    "$$c_{nm} = \\left(i_{nm} + \\sum_{k \\in V(n)} i_{nk} \\cdot i_{km}\\right)^2,$$\n",
    "\n",
    "onde $V(n)$ é o conjunto dos vizinhos de $n$.\n",
    "\n",
    "Como vimos anteriormente que $i_{nm} = 1/d_n$, podemos observar que a parte esquerda dessa fórmula é reduzida por degrees maiores. Por outro lado, a somatória da parte direita é aumentada por conexões *redundantes*, ou seja, nós que não precisam ser seus vizinhos porque já são vizinhos-de-vizinhos.\n",
    "\n",
    "Assim, pode-se dizer que a redução dessa métrica busca encontrar um equilíbrio entre *degree alto* e *redundância baixa*."
   ]
  },
  {
   "cell_type": "code",
   "execution_count": null,
   "metadata": {},
   "outputs": [],
   "source": [
    " def local_constraint(g, n, m):\n",
    "    i = investment(g, n, m)\n",
    "    for k in g.neighbors(n):\n",
    "        i += investment(g, n, k) * investment(g, k, m)\n",
    "    return i**2"
   ]
  },
  {
   "cell_type": "markdown",
   "metadata": {},
   "source": [
    "A **restrição** de $n$, a princípio, deveria ser a somatória de todas as restrições locais. No entanto, essa definição tem algo estranho: ela é brutalmente minimizada (vale zero) pela situação em que $n$ não tem vizinhos. Como essa situação não parece ser desejável para um empreendedor (aí já é lacuna demais!), vamos fazer uma pequena gambiarra:\n",
    "\n",
    "$$C_n = \\left\\{\\begin{array}{ll}\n",
    "                       2 & \\textrm{se o degree de }n\\textrm{ é zero};\\\\\n",
    "\\sum_{m \\in V(n)} c_{nm} & \\textrm{caso contrário}.\\\\\n",
    "\\end{array}\\right.$$"
   ]
  },
  {
   "cell_type": "code",
   "execution_count": null,
   "metadata": {},
   "outputs": [],
   "source": [
    "def constraint(g, n):\n",
    "    if g.degree(n) == 0:\n",
    "        return 2\n",
    "    c = 0\n",
    "    for m in g.neighbors(n):\n",
    "        c += local_constraint(g, n, m)\n",
    "    return c"
   ]
  },
  {
   "cell_type": "markdown",
   "metadata": {},
   "source": [
    "Para verificar se essa proposta de métrica funciona, vamos considerar um exemplo simples."
   ]
  },
  {
   "cell_type": "code",
   "execution_count": null,
   "metadata": {},
   "outputs": [],
   "source": [
    "g = fm.load('dados/exercicios5/buskens-vanderijt.gml')\n",
    "g.label_nodes()\n",
    "g.draw()"
   ]
  },
  {
   "cell_type": "markdown",
   "metadata": {},
   "source": [
    "Vamos calcular a restrição de cada nó e armazenar no *dataframe* interno do grafo."
   ]
  },
  {
   "cell_type": "code",
   "execution_count": null,
   "metadata": {},
   "outputs": [],
   "source": [
    "g.set_nodedata('constraint', lambda n: constraint(g, n))\n",
    "g.nodeframe"
   ]
  },
  {
   "cell_type": "markdown",
   "metadata": {},
   "source": [
    "Essa situação (estrela) é ideal para A em termos de intermediação, pois todos dependem dele para contatar outros. Isso é confirmado pelos resultados da fórmula, que indicam uma restrição baixa para A e alta para os outros.\n",
    "\n",
    "Agora vamos ver o que acontece quando \"flipamos\" algumas dessas relações, ou seja, adicionamos ou removemos arestas."
   ]
  },
  {
   "cell_type": "markdown",
   "metadata": {},
   "source": [
    "Em particular, vamos ver o que acontece quando flipamos a relação entre B e C."
   ]
  },
  {
   "cell_type": "code",
   "execution_count": null,
   "metadata": {},
   "outputs": [],
   "source": [
    "g.switch('B', 'C')\n",
    "g.draw()"
   ]
  },
  {
   "cell_type": "markdown",
   "metadata": {},
   "source": [
    "Claramente, A ficou menos broker e B e C ficaram um pouquinho mais brokers, ainda que não muito porque suas conexões são redundantes. Vamos ver qual foi o *impacto* dessa flipagem nas restrições."
   ]
  },
  {
   "cell_type": "code",
   "execution_count": null,
   "metadata": {},
   "outputs": [],
   "source": [
    "g.set_nodedata('constraint', lambda n: constraint(g, n))\n",
    "g.nodeframe"
   ]
  },
  {
   "cell_type": "markdown",
   "metadata": {},
   "source": [
    "Pois é, a restrição de A continua melhor que a dos outros, mas quase dobrou!\n",
    "\n",
    "Vamos resolver isso removendo a aresta entre A e C, que é redundante."
   ]
  },
  {
   "cell_type": "code",
   "execution_count": null,
   "metadata": {},
   "outputs": [],
   "source": [
    "g.switch('A', 'C')\n",
    "g.draw()"
   ]
  },
  {
   "cell_type": "markdown",
   "metadata": {},
   "source": [
    "Isso eliminou a redundância e também deixou B mais broker do que antes. C, por outro lado, voltou a ser totalmente não-broker.\n",
    "\n",
    "Vejamos se a métrica está coerente com todas essas observações."
   ]
  },
  {
   "cell_type": "code",
   "execution_count": null,
   "metadata": {},
   "outputs": [],
   "source": [
    "g.set_nodedata('constraint', lambda n: constraint(g, n))\n",
    "g.nodeframe"
   ]
  },
  {
   "cell_type": "markdown",
   "metadata": {},
   "source": [
    "Ok, mas o que vai acontecer com a rede se *todos* querem lacunas estruturais?\n",
    "\n",
    "Para verificar isso, vamos fazer uma *modelagem baseada em agentes*. A bilioteca da disciplina possui uma classe `Simulation` que pode ser subclasseada para facilitar a construção de simulações. Tente entender o código abaixo com calma, pois é algo que pode ser útil para seu projeto."
   ]
  },
  {
   "cell_type": "code",
   "execution_count": null,
   "metadata": {},
   "outputs": [],
   "source": [
    "class HoleSimulation(fm.Simulation):\n",
    "\n",
    "\n",
    "    # O construtor pode ser como você quiser e o esperado é que\n",
    "    # seja usado para receber os parâmetros principais da\n",
    "    # simulação. No caso, o único parâmetro é o número de nós.\n",
    "    def __init__(self, num_nodes):\n",
    "        self.num_nodes = num_nodes\n",
    "\n",
    "\n",
    "    # Você PODE sobrescrever este método para especificar o que\n",
    "    # deve ser feito no início da simulação. No caso, construímos\n",
    "    # o grafo. Por simplicidade, é um aleatório com densidade 50%.\n",
    "    def before_each(self):\n",
    "        self.g = fm.Graph(nx.erdos_renyi_graph(self.num_nodes, 0.5))\n",
    "\n",
    "\n",
    "    # Você DEVE sobrescrever este método para especificar o que\n",
    "    # deve ser feito em cada iteração da simulação. E esse método\n",
    "    # DEVE devolver um booleano indicando se a simulação deve\n",
    "    # continuar ou não. Se for para parar, deve devolver False.\n",
    "    def iterate(self):\n",
    "\n",
    "        # Vamos criar uma variável local para deixar o código menos\n",
    "        # carregado. Sem isso, seria muito self para lá e para cá.\n",
    "        g = self.g\n",
    "\n",
    "        # Cache de restrições para evitar recálculos. Chaves são nós\n",
    "        # e valores são os respectivos resultados da função constraint.\n",
    "        constraints = {}\n",
    "\n",
    "        # Para ter o efeito de escolher nós aleatoriamente e sem\n",
    "        # reposição, simplesmente embaralhamos o conjunto original\n",
    "        # e fazemos um loop nesses conjunto de nós embaralhados.\n",
    "        nodes = list(g.nodes)\n",
    "        shuffle(nodes)\n",
    "        for n in nodes:\n",
    "\n",
    "            # Calcula a restrição de n se não estiver no cache.\n",
    "            if n not in constraints:\n",
    "                constraints[n] = constraint(g, n)\n",
    "\n",
    "            # Vamos descobrir, para cada m diferente de n, o impacto\n",
    "            # que n sofreria em sua restrição se flipasse a relação\n",
    "            # com m. Esses impactos são todos armazenados em um\n",
    "            # dicionário: chaves são nós e valores são os impactos.\n",
    "            impacts = {}\n",
    "            for m in nodes:\n",
    "                if n != m:\n",
    "\n",
    "                    # Calcula a restrição de m se não estiver no cache.\n",
    "                    if m not in constraints:\n",
    "                        constraints[m] = constraint(g, m)\n",
    "\n",
    "                    # Flipa a relação de n com m.\n",
    "                    g.switch(n, m)\n",
    "\n",
    "                    # Se a flipagem criou a relação e a restrição de m\n",
    "                    # aumentou por causa disso, então a flipagem não é\n",
    "                    # válida, pois a criação de uma relação depende da\n",
    "                    # vontade de ambos. Para que isso seja devidamente\n",
    "                    # desconsiderado, definimos o impacto como zero.\n",
    "                    if g.has_edge(n, m) and constraint(g, m) > constraints[m]:\n",
    "                        impacts[m] = 0\n",
    "\n",
    "                    # Senão, o cálculo de impacto é direto: restrição\n",
    "                    # pós-flipagem menos a restrição pré-flipagem.\n",
    "                    else:\n",
    "                        impacts[m] = constraint(g, n) - constraints[n]\n",
    "\n",
    "                    # Depois de calcular o impacto, precisamos anular a\n",
    "                    # flipagem, pois a fizemos apenas para ver o impacto.\n",
    "                    g.switch(n, m)\n",
    "\n",
    "            # Agora que descobrimos o impacto relacionado a cada m,\n",
    "            # vamos descobrir qual foi o menor impacto de todos.\n",
    "            lowest = min(value for value in impacts.values())\n",
    "\n",
    "            # Se o menor impacto for negativo, então sabemos que\n",
    "            # pelo menos uma das flipagens reduziu a restrição.\n",
    "            if lowest < 0:\n",
    "\n",
    "                # Vamos recuperar o m responsável por esse menor\n",
    "                # impacto. Se houver empate, a escolha é aleatória.\n",
    "                m = choice([m for m in impacts if isclose(impacts[m], lowest)])\n",
    "\n",
    "                # Refazemos a flipagem de m, agora definitivamente.\n",
    "                g.switch(n, m)\n",
    "\n",
    "                # Como uma flipagem foi aceita, a simulação continua.\n",
    "                return True\n",
    "\n",
    "        # Se nenhuma flipagem foi aceita, a simulação termina.\n",
    "        return False\n",
    "\n",
    "\n",
    "    # Você PODE sobrescrever este método para especificar o que\n",
    "    # deve ser feito no final da simulação. No caso, adicionamos\n",
    "    # o betweenness de cada nó ao dataframe interno da simulação.\n",
    "    def after_each(self, repetition, iterations, elapsed):\n",
    "        g = self.g\n",
    "\n",
    "        b = nx.betweenness_centrality(g)\n",
    "\n",
    "        for n in g.nodes:\n",
    "\n",
    "            # O método append da simulação adiciona os dados que\n",
    "            # você quiser ao dataframe interno da simulação. Você\n",
    "            # deve passar um dicionário, pois é necessário dizer\n",
    "            # qual é a coluna em que deve ser colocado cada dado.\n",
    "            self.append({\n",
    "                'id': n,\n",
    "                'betweenness': b[n],\n",
    "            })"
   ]
  },
  {
   "cell_type": "markdown",
   "metadata": {},
   "source": [
    "Para rodar a simulação, basta instanciar um objeto da classe e rodar o método `run`. Esse método devolve o dataframe interno da simulação. Se você nunca chamou `self.append`, ele estará vazio."
   ]
  },
  {
   "cell_type": "code",
   "execution_count": null,
   "metadata": {},
   "outputs": [],
   "source": [
    "NUM_NODES = 15\n",
    "\n",
    "s = HoleSimulation(NUM_NODES)\n",
    "\n",
    "s.run()"
   ]
  },
  {
   "cell_type": "markdown",
   "metadata": {},
   "source": [
    "Como podem ver, os betweennesses estão uniformemente baixos? Porque? Vamos visualizar a rede no final da simulação, usando o algoritmo de layout `spring`, que busca aproximar grupos *coesos* (com muitas arestas entre si)."
   ]
  },
  {
   "cell_type": "code",
   "execution_count": null,
   "metadata": {},
   "outputs": [],
   "source": [
    "g = fm.Graph(s.g)\n",
    "g.move('spring')\n",
    "g.draw()"
   ]
  },
  {
   "cell_type": "markdown",
   "metadata": {},
   "source": [
    "Hmmm, não parece haver nada de especial...\n",
    "\n",
    "Então vamos tentar outra coisa: o método `move_complement` é análogo ao `move`, mas \"finge\" que o grafo é na verdade seu *complemento*. Em outras palavras, ele finge que arestas são não-arestas e vice-versa. Do ponto de vista do algoritmo `spring`, isso significa que ele passa a aproximar grupos *independentes* (com poucas arestas entre si)."
   ]
  },
  {
   "cell_type": "code",
   "execution_count": null,
   "metadata": {},
   "outputs": [],
   "source": [
    "g.move_complement('spring')\n",
    "g.draw()"
   ]
  },
  {
   "cell_type": "markdown",
   "metadata": {},
   "source": [
    "E, agora sim, está evidente que o grafo ficou *bipartido* (two-mode).\n",
    "\n",
    "Continua no notebook *exercicios5.ipynb*."
   ]
  }
 ],
 "metadata": {
  "kernelspec": {
   "display_name": "Python 3",
   "language": "python",
   "name": "python3"
  },
  "language_info": {
   "codemirror_mode": {
    "name": "ipython",
    "version": 3
   },
   "file_extension": ".py",
   "mimetype": "text/x-python",
   "name": "python",
   "nbconvert_exporter": "python",
   "pygments_lexer": "ipython3",
   "version": "3.7.4"
  }
 },
 "nbformat": 4,
 "nbformat_minor": 2
}
