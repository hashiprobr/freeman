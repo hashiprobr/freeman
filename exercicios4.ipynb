{
 "cells": [
  {
   "cell_type": "markdown",
   "metadata": {},
   "source": [
    "# Exercícios da Aula 9"
   ]
  },
  {
   "cell_type": "code",
   "execution_count": 4,
   "metadata": {},
   "outputs": [],
   "source": [
    "import os\n",
    "\n",
    "import networkx as nx\n",
    "import freeman as fm"
   ]
  },
  {
   "cell_type": "markdown",
   "metadata": {},
   "source": [
    "## Assortatividade de Grau\n",
    "\n",
    "Em uma rede que tem alta “assortatividade de grau” (*assortative mixing by degree*), os nós com alto degree tendem a se associar com outros nós com alto degree. De forma análoga, “eremitas” tendem a se associar a outros eremitas. Dessa forma, numa rede com alta assortatividade de grau, esperamos que surja uma estrutura de \"centro e periferia\". O \"centro\" da rede é uma área mais densa, formada por nós com alto grau e conectados entre si, enquanto a \"periferia\" é menos densa, formada por nós com baixo grau e que não se conectam entre si.\n",
    "\n",
    "Em contraste, redes “dissortativas de grau” são aquelas onde os nós com alto degree tem preferência de associação com nós com baixo degree. O caso paradigmático é a rede \"estrela\": quando um nó central se relaciona com todos os outros nós da rede, que por sua vez estão desconectados entre si. Além dessa estrutura, redes dissortativas também podem apresentar estruturas uniformes.\n",
    "\n",
    "Considere agora as redes abaixo. Essas redes representam co-participação em conselhos de empresas entre 97 e 2015.\n",
    "\n",
    "Não tente visualizar essas redes. Elas são muito grandes."
   ]
  },
  {
   "cell_type": "code",
   "execution_count": 6,
   "metadata": {},
   "outputs": [
    {
     "name": "stdout",
     "output_type": "stream",
     "text": [
      "1997.gml\n",
      "1998.gml\n",
      "1999.gml\n",
      "2000.gml\n",
      "2001.gml\n",
      "2002.gml\n",
      "2003.gml\n",
      "2004.gml\n",
      "2005.gml\n",
      "2006.gml\n",
      "2007.gml\n",
      "2008.gml\n",
      "2009.gml\n",
      "2010.gml\n",
      "2011.gml\n",
      "2012.gml\n",
      "2013.gml\n",
      "2014.gml\n",
      "2015.gml\n"
     ]
    }
   ],
   "source": [
    "for filename in os.listdir('dados/reais/interlock'):\n",
    "    print(filename)"
   ]
  },
  {
   "cell_type": "markdown",
   "metadata": {},
   "source": [
    "Qual a tendência da assortatividade/dissortatividade dessas redes? Pesquise pela função `degree_assortativity_coefficient` da NetworkX."
   ]
  },
  {
   "cell_type": "code",
   "execution_count": null,
   "metadata": {},
   "outputs": [],
   "source": [
    "# seu código aqui, use dataframes para organizar melhor a exibição"
   ]
  },
  {
   "cell_type": "markdown",
   "metadata": {},
   "source": [
    "## Clube Rico\n",
    "\n",
    "O conceito de “Clube Rico” (*Rich Club*) visa resolver as ambiguidades encontradas no conceito de aAssortatividade de grau”. Por exemplo: se temos uma rede com alta assortatividade de grau, podemos dizer com certeza que os nós com maior grau estão conectados entre si? Esperamos que em redes assortativas, surja uma estrutura de \"centro e periferia\", mas isso significa que o \"centro\" estará isolado da \"periferia\"?\n",
    "\n",
    "O coeficiente de “Clube Rico” segue os seguintes passos:\n",
    "\n",
    "* dado um grau $k$, identifica os nós com grau igual ou maior que $k$;\n",
    "\n",
    "* Ø (o coeficiente de “Clube Rico”) é a densidade dos nós identificados no passo anterior: se Ø = 1, os nós ricos são completamente conectados entre si.\n",
    "\n",
    "É possível mostrar que não há uma relação direta entre o coeficiente de “clube rico” e a distribuição de grau de uma rede.\n",
    "\n",
    "Considere novamente a rede da seção anterior. Assuma como corte para o Clube Rico, os 5% dos nós com maior grau. Como evolui o “coeficiente de 'Clube Rico'\" no tempo? Pesquise sobre a função `rich_club_coefficient` da Networkx."
   ]
  },
  {
   "cell_type": "code",
   "execution_count": null,
   "metadata": {},
   "outputs": [],
   "source": [
    "# seu código aqui, faça gráficos!"
   ]
  },
  {
   "cell_type": "markdown",
   "metadata": {},
   "source": [
    "## Oligarquias\n",
    "\n",
    "Adicionalmente à ideia de \"clube rico\", podemos verificar se na rede emerge uma \"oligarquia\". Para isso, verificamos dois critérios:\n",
    "\n",
    "* a rede deve ser \"Power Law\": o centro deve ser menor que a periferia, e os nós no centro devem concentrar uma quantidade desproporcional de laços;\n",
    "\n",
    "* a rede deve ser dissortativa: o centro não pode se isolar da periferia.\n",
    "\n",
    "Para verificar se uma rede é Power Law, uma alternativa, caso não exista um teste de hipótese direto, é tirar o log dos dois eixos e fazer um teste de correlação. Reflita na razão pela qual isso funciona.\n",
    "\n",
    "As redes dos exemplos são oligárquicas? Isso muda no tempo?"
   ]
  },
  {
   "cell_type": "code",
   "execution_count": null,
   "metadata": {},
   "outputs": [],
   "source": [
    "# seu código aqui"
   ]
  },
  {
   "cell_type": "markdown",
   "metadata": {},
   "source": [
    "## Desafio\n",
    "\n",
    "Qual é o modelo que melhor se aplica às redes observadas? Small World ou oligarquia? Não é necessário entregar, apenas pense a respeito e nos processos que poderiam levar a uma ou a outra."
   ]
  },
  {
   "cell_type": "markdown",
   "metadata": {},
   "source": [
    "## Help Desk\n",
    "\n",
    "Se o notebook não está exibindo grafos, siga os passos abaixo.\n",
    "\n",
    "1. Confirme que nenhuma célula está lançando exceção. Se alguma estiver, resolva antes de continuar.\n",
    "\n",
    "2. Confirme que sua máquina está conectada à Internet. Se não estiver, reconecte antes de continuar.\n",
    "\n",
    "3. Na barra de menu do notebook, selecione *Cell → All Output → Clear* para limpar todas as saídas.\n",
    "\n",
    "4. Salve o notebook pela barra de ferramentas ou pelo atalho `Ctrl+s`.\n",
    "\n",
    "5. Feche o notebook, ou seja, feche a aba do navegador no qual ele está aberto.\n",
    "\n",
    "6. No gerenciador do Jupyter, selecione o notebook e clique no botão *Shutdown* para fechá-lo de verdade.\n",
    "\n",
    "7. Abra o notebook novamente."
   ]
  }
 ],
 "metadata": {
  "kernelspec": {
   "display_name": "Python 3",
   "language": "python",
   "name": "python3"
  },
  "language_info": {
   "codemirror_mode": {
    "name": "ipython",
    "version": 3
   },
   "file_extension": ".py",
   "mimetype": "text/x-python",
   "name": "python",
   "nbconvert_exporter": "python",
   "pygments_lexer": "ipython3",
   "version": "3.7.3"
  }
 },
 "nbformat": 4,
 "nbformat_minor": 2
}
