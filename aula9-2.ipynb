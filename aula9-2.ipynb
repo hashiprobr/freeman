{
 "cells": [
  {
   "cell_type": "markdown",
   "metadata": {},
   "source": [
    "# Aula 9, Parte B\n",
    "\n",
    "## Average Path Length\n",
    "\n",
    "A *Pergunta 1* que fizemos no notebook anterior refere-se à métrica conhecida como **average path length**, ou seja, o tamanho médio de um caminho na rede. Em anéis regulares, pode-se demonstrar que essa métrica é\n",
    "\n",
    "$$\\frac{N}{2K}$$\n",
    "\n",
    "onde $N$ é o número de nós e $K$ é o degree médio. Em grafos aleatórios, pode-se demonstrar que é aproximadamente\n",
    "\n",
    "$$\\frac{\\ln N}{\\ln K}$$\n",
    "\n",
    "onde $N$ e $K$ representam as mesmas coisas.\n",
    "\n",
    "## Clustering Coefficient\n",
    "\n",
    "A *Pergunta 2* que fizemos no notebook anterior refere-se à métrica conhecida como **clustering coefficient**, ou seja, a transitividade do grafo, medida a partir da razão entre o número de triângulos (conjuntos de três nós com todas as três arestas possíveis entre eles) que existem no grafo e o número máximo possível de triângulos. Em anéis regulares, pode-se demonstrar que essa métrica é\n",
    "\n",
    "$$\\frac{3(K-2)}{4(K-1)}$$ e em grafos aleatórios pode-se demonstrar que é aproximadamente\n",
    "\n",
    "$$\\frac{K}{N-1}$$\n",
    "\n",
    "\n",
    "## Pequenos Mundos\n",
    "\n",
    "Muitos grafos reais possuem baixo *average path length* e alto *clustering coefficient*, ou seja, possuem alta transitividade e são necessários poucos passos para andar de um nó para outro. Esses grafos são conhecidos como **Small World** e um dos melhores exemplos que vimos em sala é o grafo de recomendações do *Spotify*:\n",
    "\n",
    "* grupos de músicas tendem a fazer recomendações entre si;\n",
    "\n",
    "* são necessárias poucas recomendações para chegar de uma faixa a partir de outra, mesmo sendo bem diferentes.\n",
    "\n",
    "## Pergunta\n",
    "\n",
    "Com base em todos os resultados que vimos até agora, como podemos formular um critério para decidir se um grafo tem cara de *Small World* ou não?\n",
    "\n",
    "**Dica:** que tal usar os grafos anteriores como *benchmark*?"
   ]
  },
  {
   "cell_type": "markdown",
   "metadata": {},
   "source": [
    "*Para acreditarmos que um grafo possa ser \"small world\", é razoável exigir que seu \"average path length\" seja menor que o de um anel regular com mesmo tamanho e densidade (ou seja, menor que $\\frac{N}{2K}$) e que seu \"clustering coefficient\" seja maior que o de um grafo aleatório cmo mesmo tamanho e densidade. (ou seja, maior que $\\frac{K}{N-1}$)*."
   ]
  }
 ],
 "metadata": {
  "kernelspec": {
   "display_name": "Python 3",
   "language": "python",
   "name": "python3"
  },
  "language_info": {
   "codemirror_mode": {
    "name": "ipython",
    "version": 3
   },
   "file_extension": ".py",
   "mimetype": "text/x-python",
   "name": "python",
   "nbconvert_exporter": "python",
   "pygments_lexer": "ipython3",
   "version": "3.7.4"
  }
 },
 "nbformat": 4,
 "nbformat_minor": 2
}
