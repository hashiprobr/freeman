{
 "cells": [
  {
   "cell_type": "markdown",
   "metadata": {},
   "source": [
    "# Contínuas X Contínuas"
   ]
  },
  {
   "cell_type": "code",
   "execution_count": null,
   "metadata": {},
   "outputs": [],
   "source": [
    "import pandas as pd\n",
    "import freeman as fm"
   ]
  },
  {
   "cell_type": "markdown",
   "metadata": {},
   "source": [
    "**Revisão de Pandas:** como carregar dataframes a partir de arquivos CSV."
   ]
  },
  {
   "cell_type": "code",
   "execution_count": null,
   "metadata": {},
   "outputs": [],
   "source": [
    "aleatorio = pd.read_csv('dados/artificiais/aleatorio.csv')\n",
    "linlin = pd.read_csv('dados/artificiais/linlin.csv')\n",
    "linexp = pd.read_csv('dados/artificiais/linexp.csv')\n",
    "expexp = pd.read_csv('dados/artificiais/expexp.csv')\n",
    "multipla = pd.read_csv('dados/artificiais/multipla.csv')"
   ]
  },
  {
   "cell_type": "markdown",
   "metadata": {},
   "source": [
    "Use a função `scaplot` para exibir gráficos de dispersão.\n",
    "\n",
    "No exemplo abaixo, exibimos o gráfico das colunas `x` e `y` do dataframe `aleatorio`."
   ]
  },
  {
   "cell_type": "code",
   "execution_count": null,
   "metadata": {},
   "outputs": [],
   "source": [
    "fm.scaplot(aleatorio, 'x', 'y')"
   ]
  },
  {
   "cell_type": "markdown",
   "metadata": {},
   "source": [
    "Use a função `cortest` para fazer um teste de correlação.\n",
    "\n",
    "No exemplo abaixo, testamos a correlação das colunas `x` e `y` do dataframe `aleatorio`."
   ]
  },
  {
   "cell_type": "code",
   "execution_count": null,
   "metadata": {},
   "outputs": [],
   "source": [
    "r, p = fm.cortest(aleatorio, 'x', 'y')"
   ]
  },
  {
   "cell_type": "markdown",
   "metadata": {},
   "source": [
    "O primeiro valor devolvido é o coeficiente, que nesse caso é próxima de zero, indicando baixa correlação."
   ]
  },
  {
   "cell_type": "code",
   "execution_count": null,
   "metadata": {},
   "outputs": [],
   "source": [
    "print(r)"
   ]
  },
  {
   "cell_type": "markdown",
   "metadata": {},
   "source": [
    "O segundo valor devolvido é o p-valor, que nesse caso é bem acima de 5%, indicando alta incerteza."
   ]
  },
  {
   "cell_type": "code",
   "execution_count": null,
   "metadata": {},
   "outputs": [],
   "source": [
    "print(p)"
   ]
  },
  {
   "cell_type": "markdown",
   "metadata": {},
   "source": [
    "Compare esses resultados com os do dataframe `linlin`."
   ]
  },
  {
   "cell_type": "code",
   "execution_count": null,
   "metadata": {},
   "outputs": [],
   "source": [
    "r, p = fm.cortest(linlin, 'x', 'y')\n",
    "print(r)\n",
    "print(p)\n",
    "fm.scaplot(linlin, 'x', 'y')"
   ]
  },
  {
   "cell_type": "markdown",
   "metadata": {},
   "source": [
    "Vamos considerar agora o dataframe `linexp`."
   ]
  },
  {
   "cell_type": "code",
   "execution_count": null,
   "metadata": {},
   "outputs": [],
   "source": [
    "r, p = fm.cortest(linexp, 'x', 'y')\n",
    "print(r)\n",
    "print(p)\n",
    "fm.scaplot(linexp, 'x', 'y')"
   ]
  },
  {
   "cell_type": "markdown",
   "metadata": {},
   "source": [
    "Quando os valores baixos de um dos eixos estão \"espremidos\", podemos usar a classe `Log` para corrigir.\n",
    "\n",
    "Repare como os resultados do teste de correlação melhoram."
   ]
  },
  {
   "cell_type": "code",
   "execution_count": null,
   "metadata": {},
   "outputs": [],
   "source": [
    "r, p = fm.cortest(linexp, 'x', fm.Log('y'))\n",
    "print(r)\n",
    "print(p)\n",
    "fm.scaplot(linexp, 'x', fm.Log('y'))"
   ]
  },
  {
   "cell_type": "markdown",
   "metadata": {},
   "source": [
    "Finalmente, vamos considerar o dataframe `expexp`."
   ]
  },
  {
   "cell_type": "code",
   "execution_count": null,
   "metadata": {},
   "outputs": [],
   "source": [
    "r, p = fm.cortest(expexp, 'x', 'y')\n",
    "print(r)\n",
    "print(p)\n",
    "fm.scaplot(expexp, 'x', 'y')"
   ]
  },
  {
   "cell_type": "markdown",
   "metadata": {},
   "source": [
    "Nesse caso, os valores baixos dos dois eixos estão \"espremidos\", então usamos `Log` sobre os dois.\n",
    "\n",
    "Os resultados do teste não mudam muito. É mais para visualização."
   ]
  },
  {
   "cell_type": "code",
   "execution_count": null,
   "metadata": {},
   "outputs": [],
   "source": [
    "r, p = fm.cortest(expexp, fm.Log('x'), fm.Log('y'))\n",
    "print(r)\n",
    "print(p)\n",
    "fm.scaplot(expexp, fm.Log('x'), fm.Log('y'))"
   ]
  },
  {
   "cell_type": "markdown",
   "metadata": {},
   "source": [
    "Agora vamos explorar o dataframe `multipla`, que possui quatro colunas.\n",
    "\n",
    "Use a função `matplot` para exibir todos os possíveis gráficos de dispersão de uma vez."
   ]
  },
  {
   "cell_type": "code",
   "execution_count": null,
   "metadata": {},
   "outputs": [],
   "source": [
    "fm.matplot(multipla, ['x1', 'x2', 'x3', 'y'])"
   ]
  },
  {
   "cell_type": "markdown",
   "metadata": {},
   "source": [
    "As variáveis `x1` e `x3` parecem influenciar `y`. Vamos tentar confirmar.\n",
    "\n",
    "Use a função `linregress` para fazer uma regressão linear.\n",
    "\n",
    "No exemplo abaixo, `x1`, `x2` e `x3` são as independentes e `y` é a dependente."
   ]
  },
  {
   "cell_type": "code",
   "execution_count": null,
   "metadata": {},
   "outputs": [],
   "source": [
    "coefs, score = fm.linregress(multipla, ['x1', 'x2', 'x3'], 'y')"
   ]
  },
  {
   "cell_type": "markdown",
   "metadata": {},
   "source": [
    "Os coeficientes obtidos confirmam alta influência positiva de `x1` e `x3` e baixa influẽncia negativa de `x2`."
   ]
  },
  {
   "cell_type": "code",
   "execution_count": null,
   "metadata": {},
   "outputs": [],
   "source": [
    "print(coefs)"
   ]
  },
  {
   "cell_type": "markdown",
   "metadata": {},
   "source": [
    "O segundo valor devolvido é a qualidade do modelo obtido pela regressão.\n",
    "\n",
    "Nesse caso, a qualidade é muito próxima de 1, indicando que o modelo é muito bom."
   ]
  },
  {
   "cell_type": "code",
   "execution_count": null,
   "metadata": {},
   "outputs": [],
   "source": [
    "print(score)"
   ]
  }
 ],
 "metadata": {
  "kernelspec": {
   "display_name": "Python 3",
   "language": "python",
   "name": "python3"
  },
  "language_info": {
   "codemirror_mode": {
    "name": "ipython",
    "version": 3
   },
   "file_extension": ".py",
   "mimetype": "text/x-python",
   "name": "python",
   "nbconvert_exporter": "python",
   "pygments_lexer": "ipython3",
   "version": "3.7.4"
  }
 },
 "nbformat": 4,
 "nbformat_minor": 2
}
